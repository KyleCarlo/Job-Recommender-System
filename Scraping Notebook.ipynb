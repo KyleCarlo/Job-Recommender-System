{
 "cells": [
  {
   "cell_type": "code",
   "execution_count": 113,
   "id": "b2db9e60-1c6a-40a8-8d5d-416368957326",
   "metadata": {},
   "outputs": [
    {
     "name": "stdout",
     "output_type": "stream",
     "text": [
      "Requirement already satisfied: webdriver-manager in c:\\users\\bianc\\appdata\\local\\programs\\python\\python312\\lib\\site-packages (4.0.2)\n",
      "Requirement already satisfied: requests in c:\\users\\bianc\\appdata\\local\\programs\\python\\python312\\lib\\site-packages (from webdriver-manager) (2.32.3)\n",
      "Requirement already satisfied: python-dotenv in c:\\users\\bianc\\appdata\\local\\programs\\python\\python312\\lib\\site-packages (from webdriver-manager) (1.1.0)\n",
      "Requirement already satisfied: packaging in c:\\users\\bianc\\appdata\\roaming\\python\\python312\\site-packages (from webdriver-manager) (23.2)\n",
      "Requirement already satisfied: charset-normalizer<4,>=2 in c:\\users\\bianc\\appdata\\local\\programs\\python\\python312\\lib\\site-packages (from requests->webdriver-manager) (3.4.0)\n",
      "Requirement already satisfied: idna<4,>=2.5 in c:\\users\\bianc\\appdata\\local\\programs\\python\\python312\\lib\\site-packages (from requests->webdriver-manager) (3.10)\n",
      "Requirement already satisfied: urllib3<3,>=1.21.1 in c:\\users\\bianc\\appdata\\local\\programs\\python\\python312\\lib\\site-packages (from requests->webdriver-manager) (2.2.3)\n",
      "Requirement already satisfied: certifi>=2017.4.17 in c:\\users\\bianc\\appdata\\local\\programs\\python\\python312\\lib\\site-packages (from requests->webdriver-manager) (2024.8.30)\n"
     ]
    },
    {
     "name": "stderr",
     "output_type": "stream",
     "text": [
      "\n",
      "[notice] A new release of pip is available: 25.0 -> 25.0.1\n",
      "[notice] To update, run: python.exe -m pip install --upgrade pip\n"
     ]
    }
   ],
   "source": [
    "!pip install webdriver-manager"
   ]
  },
  {
   "cell_type": "code",
   "execution_count": 114,
   "id": "a2e98529-f1b5-4d11-a080-e4912c60a81f",
   "metadata": {},
   "outputs": [],
   "source": [
    "from bs4 import BeautifulSoup\n",
    "from selenium import webdriver\n",
    "from selenium.webdriver.chrome.options import Options\n",
    "from selenium.webdriver.chrome.service import Service\n",
    "from webdriver_manager.chrome import ChromeDriverManager\n",
    "from selenium.webdriver.support.ui import WebDriverWait\n",
    "from selenium.webdriver.support import expected_conditions as EC\n",
    "\n",
    "from selenium.webdriver.common.action_chains import ActionChains\n",
    "from selenium.webdriver.common.keys import Keys\n",
    "from selenium.webdriver.common.by import By\n",
    "\n",
    "import time\n",
    "import numpy as np\n",
    "import pandas as pd\n",
    "import multiprocessing\n",
    "import re\n",
    "from rapidfuzz import process\n",
    "import unicodedata"
   ]
  },
  {
   "cell_type": "markdown",
   "id": "b23a2be0-f600-46ad-8b7c-b4246abaa039",
   "metadata": {},
   "source": [
    "# Scraping Linkedin"
   ]
  },
  {
   "cell_type": "code",
   "execution_count": 115,
   "id": "22ac0e08-be70-4d8d-b574-ed4d1a5af5b6",
   "metadata": {},
   "outputs": [],
   "source": [
    "job_query = \"python-developer\"\n",
    "len_jobs = 30"
   ]
  },
  {
   "cell_type": "code",
   "execution_count": 116,
   "id": "462a4870-0a96-4333-9dcc-d9fa007700d1",
   "metadata": {},
   "outputs": [
    {
     "name": "stdout",
     "output_type": "stream",
     "text": [
      "TOTAL TIME 119.15519165992737\n"
     ]
    }
   ],
   "source": [
    "start = time.time()\n",
    "driver = webdriver.Chrome(service=Service(ChromeDriverManager().install()))\n",
    "url = f\"https://ph.linkedin.com/jobs/{job_query}-jobs\"\n",
    "\n",
    "try:\n",
    "    driver.get(url)\n",
    "    ActionChains(driver).send_keys(Keys.ESCAPE).perform()\n",
    "    job_list = driver.find_elements(By.XPATH, \"//ul[@class='jobs-search__results-list']/li\")\n",
    "    \n",
    "    # job catalog scraping\n",
    "    jobs_scraped = np.array([])\n",
    "    for job in job_list:\n",
    "        descs = []\n",
    "        try:\n",
    "            job_title = job.find_element(By.XPATH, \".//h3[@class='base-search-card__title']\").get_attribute('innerHTML').strip()\n",
    "            card = job.find_element(By.XPATH, \".//a[@data-tracking-control-name='public_jobs_jserp-result_search-card']\")\n",
    "            link = card.get_attribute('href')\n",
    "            descs = [job_title, link]\n",
    "        except:\n",
    "            continue\n",
    "    \n",
    "        try:\n",
    "            location = job.find_element(By.XPATH, \".//span[@class='job-search-card__location']\").get_attribute('innerHTML')\n",
    "            location = location.replace('\\n', '').strip()\n",
    "            descs.append(location)\n",
    "        except:\n",
    "            descs.append('')\n",
    "        \n",
    "        try: \n",
    "            company = job.find_element(By.XPATH, \".//h4[@class='base-search-card__subtitle']/a\").get_attribute('innerHTML').strip()\n",
    "            descs.append(company)\n",
    "        except:\n",
    "            try:\n",
    "                company = job.find_element(By.XPATH, \".//h4[@class='base-search-card__subtitle']\").get_attribute('innerHTML').strip()\n",
    "                descs.append(company)\n",
    "            except:\n",
    "                descs.append('')\n",
    "                \n",
    "        if len(jobs_scraped) == 0:\n",
    "            jobs_scraped = np.append(jobs_scraped, descs)\n",
    "        else:\n",
    "            jobs_scraped = np.vstack([jobs_scraped, descs])\n",
    "\n",
    "        # limit to max len_jobs only\n",
    "        if len(jobs_scraped) >= len_jobs:\n",
    "            break\n",
    "    \n",
    "    # if there is only 1 scraped job\n",
    "    if jobs_scraped.shape == (4,):\n",
    "        jobs_scraped = np.array([list(jobs_scraped)])\n",
    "        \n",
    "    # individual job scraping\n",
    "    job_descs = np.array([])\n",
    "    for job in jobs_scraped:\n",
    "        descs = []\n",
    "        try:\n",
    "            # scraping emp_type, job_func, job_desc, posted ago\n",
    "            driver.get(job[1])\n",
    "            wait = WebDriverWait(driver, timeout=2)\n",
    "            desc_job = wait.until(EC.presence_of_all_elements_located((By.XPATH, \".//ul[@class='description__job-criteria-list']/li\")))\n",
    "            descs = [job[1]]\n",
    "            for i in [1,2]:\n",
    "                try:\n",
    "                    detail = desc_job[i].find_element(By.XPATH, \".//span\")\n",
    "                    detail = detail.get_attribute('innerHTML').replace('\\n', '').strip()\n",
    "                    descs.append(detail)\n",
    "                except:\n",
    "                    descs.append('')\n",
    "            try:\n",
    "                desc_gen = driver.find_element(By.XPATH, \"//div[@class='description__text description__text--rich']/section/div\")\n",
    "                desc_gen = desc_gen.get_attribute('innerHTML')\n",
    "                descs.append(desc_gen)\n",
    "            except:\n",
    "                descs.append('')\n",
    "            try:\n",
    "                posted_ago = driver.find_element(By.XPATH, \"//span[@class='posted-time-ago__text topcard__flavor--metadata']\")\n",
    "                posted_ago = posted_ago.get_attribute('innerHTML').replace('\\n','').strip()\n",
    "                descs.append(posted_ago)\n",
    "            except:\n",
    "                descs.append('')\n",
    "        except: \n",
    "            descs = [job[3],'','','','']\n",
    "        if len(job_descs) == 0:\n",
    "            job_descs = np.append(job_descs, descs)\n",
    "        else:\n",
    "            job_descs = np.vstack([job_descs, descs])\n",
    "        time.sleep(2)\n",
    "    \n",
    "    # merging\n",
    "    jobs_df = pd.DataFrame(jobs_scraped)\n",
    "    jobs_df.columns = ['title','link', 'location', 'company']\n",
    "    job_descs_df = pd.DataFrame(job_descs)\n",
    "    \n",
    "    # if there is only 1 scraped job\n",
    "    if job_descs_df.shape == (5,1):\n",
    "        job_descs_df = job_descs_df.T\n",
    "    \n",
    "    job_descs_df.columns = ['link','emp_type', 'job_func', 'job_desc', 'posted']\n",
    "    linkedin_df = jobs_df.merge(job_descs_df, on='link', how='left')\n",
    "except:\n",
    "    print(\"Unable to Scrape Linkedin\")\n",
    "finally:\n",
    "    # close driver\n",
    "    try:\n",
    "        driver.close()\n",
    "    except:\n",
    "        print(\"Unable to Scrape Linkedin\")\n",
    "    \n",
    "end = time.time()\n",
    "print(\"TOTAL TIME\", end-start)"
   ]
  },
  {
   "cell_type": "markdown",
   "id": "b45c28a1-cfb7-40e6-9b15-e2a2cf3bf3a2",
   "metadata": {},
   "source": [
    "# Scraping FoundIt"
   ]
  },
  {
   "cell_type": "code",
   "execution_count": 117,
   "id": "f13ae83b-2953-4c67-8f68-46665d22b922",
   "metadata": {},
   "outputs": [],
   "source": [
    "job_query = \"python-developer\"\n",
    "len_jobs = 30"
   ]
  },
  {
   "cell_type": "code",
   "execution_count": 118,
   "id": "ba34f8e9-0d28-4f33-951b-a3b8b8dd3d33",
   "metadata": {},
   "outputs": [
    {
     "name": "stdout",
     "output_type": "stream",
     "text": [
      "TOTAL TIME 29.090785026550293\n"
     ]
    }
   ],
   "source": [
    "start = time.time()\n",
    "driver = webdriver.Chrome(service=Service(ChromeDriverManager().install()))\n",
    "url = f\"https://www.foundit.com.ph/search/{job_query}-jobs\"\n",
    "\n",
    "try:\n",
    "    jobs_scraped = np.array([])\n",
    "    page_num = 1\n",
    "    while True:\n",
    "        driver.get(f\"{url}{f\"-{page_num}\" if page_num > 1 else ''}\")\n",
    "        job_list = driver.find_elements(By.XPATH, \"//div[@class='srpResultCard']/div\")\n",
    "        if len(job_list) == 0:\n",
    "            break\n",
    "        job_list = job_list[1:] # remove the header\n",
    "        for job in job_list:\n",
    "            # scraping title, company, url\n",
    "            try:\n",
    "                job_title = job.find_element(By.XPATH, \".//a[@title]\")\n",
    "                link = job_title.get_attribute('href')\n",
    "                job_title = job_title.get_attribute('innerHTML').replace('\\n', '').strip()\n",
    "            except:\n",
    "                continue\n",
    "            try:\n",
    "                company = job.find_element(By.XPATH, \".//div[@class='companyName']/span\")\n",
    "                company = company.get_attribute('innerHTML').replace('\\n', '').strip()\n",
    "            except: \n",
    "                company = ''\n",
    "            descs = [job_title, company, link]\n",
    "        \n",
    "            # scraping location, posted ago\n",
    "            job.find_element(By.XPATH, './/div[@onclick]/div').click()\n",
    "            wait = WebDriverWait(driver, 5)\n",
    "            try:\n",
    "                desc_job = wait.until(EC.presence_of_all_elements_located((By.XPATH, \".//div[@id='jobHighlight']/div/div/div\")))\n",
    "                for i in [0,2]:\n",
    "                    if i != 2:\n",
    "                        detail = desc_job[i].find_element(By.XPATH, \".//div[@class='details']\")\n",
    "                        detail = detail.get_attribute('innerHTML').replace('\\n', '').strip()\n",
    "                    else: \n",
    "                        detail = desc_job[i].find_element(By.XPATH, \".//span[@class='btnHighighlights']\")\n",
    "                        detail = detail.get_attribute('innerHTML').replace('\\n', '').split('</i>')\n",
    "                        detail = detail[1].strip()\n",
    "                    descs.append(detail)\n",
    "            except:\n",
    "                descs.append('','','')\n",
    "        \n",
    "            # scraping emp_type, job function, general job_desc\n",
    "            try:\n",
    "                desc_job_2 = wait.until(EC.visibility_of_all_elements_located((By.XPATH, \".//div[@id='jobDetail']/div/div\")))\n",
    "                for i in [0,2]:\n",
    "                    try:\n",
    "                        detail = desc_job_2[i].find_element(By.XPATH, \".//div[@class='jobDesc']\")\n",
    "                        detail = detail.get_attribute('innerHTML').replace('\\n', '').strip()\n",
    "                        descs.append(detail)\n",
    "                    except:\n",
    "                        descs.append('')\n",
    "            except:\n",
    "                descs.extend(['',''])\n",
    "            try:\n",
    "                desc_gen = wait.until(EC.visibility_of_element_located((By.XPATH, \".//p[@class='jobDescInfo']\")))\n",
    "                desc_gen = desc_gen.get_attribute('innerHTML')\n",
    "                descs.append(desc_gen)\n",
    "            except:\n",
    "                descs.append('')\n",
    "                \n",
    "            if len(jobs_scraped) == 0:\n",
    "                jobs_scraped = np.append(jobs_scraped, descs)\n",
    "            else:\n",
    "                jobs_scraped = np.vstack([jobs_scraped, descs])\n",
    "\n",
    "        # limit to max len_jobs only\n",
    "        if len(jobs_scraped) >= len_jobs:\n",
    "            break\n",
    "        page_num += 1\n",
    "\n",
    "    # converting to DataFrame\n",
    "    if jobs_scraped.shape == (8,):\n",
    "        jobs_scraped = np.array([list(jobs_scraped)])\n",
    "    \n",
    "    foundit_df = pd.DataFrame(jobs_scraped)\n",
    "    foundit_df.columns = ['title','company','link','location','posted','emp_type','job_func','job_desc']\n",
    "except:\n",
    "    print(\"Unable to Scrape Foundit\")\n",
    "finally:\n",
    "    # close driver\n",
    "    try:\n",
    "        driver.close()\n",
    "    except:\n",
    "        print(\"Unable to Scrape Foundit\")\n",
    "    \n",
    "end = time.time()\n",
    "print(\"TOTAL TIME\", end-start)"
   ]
  },
  {
   "cell_type": "markdown",
   "id": "1b7a9a86-55f2-45c6-bb76-5a1aa55d8ae2",
   "metadata": {},
   "source": [
    "# Scraping Jobstreet"
   ]
  },
  {
   "cell_type": "code",
   "execution_count": 119,
   "id": "c8a48313-054e-4a3a-b682-b2e276eb4e77",
   "metadata": {},
   "outputs": [],
   "source": [
    "job_query = \"python-developer\"\n",
    "len_jobs = 30"
   ]
  },
  {
   "cell_type": "code",
   "execution_count": 120,
   "id": "474f00ec-50b2-4afb-8dd7-96408ad51104",
   "metadata": {},
   "outputs": [
    {
     "name": "stdout",
     "output_type": "stream",
     "text": [
      "TOTAL TIME 52.150325775146484\n"
     ]
    }
   ],
   "source": [
    "start = time.time()\n",
    "driver = webdriver.Chrome(service=Service(ChromeDriverManager().install()))\n",
    "url = f\"https://ph.jobstreet.com/{job_query}-jobs\"\n",
    "\n",
    "try:\n",
    "    driver.get(url)\n",
    "    \n",
    "    # job catalog scraping\n",
    "    jobs_scraped = np.array([])\n",
    "    wait = WebDriverWait(driver, 5)\n",
    "    while True:\n",
    "        try:\n",
    "            job_list = wait.until(EC.presence_of_all_elements_located((By.XPATH, \"//article[@data-automation='normalJob']\")))\n",
    "            for job in job_list:\n",
    "                descs = []\n",
    "                # scraping title, company, link\n",
    "                try:\n",
    "                    job_title = job.find_element(By.XPATH, \".//a[@data-automation='jobTitle']\")\n",
    "                    link = job_title.get_attribute('href')\n",
    "                    job_title = job_title.get_attribute('innerHTML').replace('\\n','').strip()\n",
    "                    company = job.find_element(By.XPATH, \".//a[@data-type='company']\")\n",
    "                    company = company.get_attribute('innerHTML').replace('\\n', '').strip()\n",
    "                    descs.append(job_title)\n",
    "                    descs.append(link)\n",
    "                    descs.append(company)\n",
    "                except:\n",
    "                    continue\n",
    "\n",
    "                try:\n",
    "                    posted_ago = job.find_element(By.XPATH, \".//span[@data-automation='jobListingDate']\")\n",
    "                    posted_ago = posted_ago.get_attribute('innerHTML').replace('\\n','').strip()\n",
    "                    descs.append(posted_ago)\n",
    "                except:\n",
    "                    descs.append('')\n",
    "                \n",
    "                if len(jobs_scraped) == 0:\n",
    "                    jobs_scraped = np.append(jobs_scraped, descs)\n",
    "                else:\n",
    "                    jobs_scraped = np.vstack([jobs_scraped, descs])\n",
    "                    \n",
    "            # limit to max len_jobs only\n",
    "            if len(jobs_scraped) >= len_jobs:\n",
    "                jobs_scraped = jobs_scraped[:len_jobs]\n",
    "                break\n",
    "                \n",
    "            next_button = driver.find_element(By.XPATH, \".//a[@aria-label='Next']\")\n",
    "            next_button.click()\n",
    "        except:\n",
    "            break\n",
    "    \n",
    "    if jobs_scraped.shape == (4,):\n",
    "        jobs_scraped = np.array([list(jobs_scraped)])\n",
    "    \n",
    "    # individual job scraping\n",
    "    job_descs = np.array([])\n",
    "    for job in jobs_scraped:\n",
    "        try:\n",
    "            driver.get(job[1])\n",
    "            descs = [job[1]]\n",
    "            try:\n",
    "                location = driver.find_element(By.XPATH, \"//span[@data-automation='job-detail-location']/a\")\n",
    "                location = location.get_attribute('innerHTML').replace('\\n','').strip()\n",
    "                descs.append(location)\n",
    "            except:\n",
    "                descs.append('')\n",
    "            try:\n",
    "                job_func = driver.find_element(By.XPATH, \"//span[@data-automation='job-detail-classifications']/a\")\n",
    "                job_func = job_func.get_attribute('innerHTML').replace('\\n','').strip()\n",
    "                descs.append(job_func)\n",
    "            except:\n",
    "                descs.append('')\n",
    "            try:\n",
    "                emp_type = driver.find_element(By.XPATH, \"//span[@data-automation='job-detail-work-type']/a\")\n",
    "                emp_type = emp_type.get_attribute('innerHTML').replace('\\n','').strip()\n",
    "                descs.append(emp_type)\n",
    "            except:\n",
    "                descs.append('')\n",
    "            try:\n",
    "                job_desc = driver.find_element(By.XPATH, \"//div[@data-automation='jobAdDetails']/div\")\n",
    "                job_desc = job_desc.get_attribute('innerHTML').replace('\\n','').strip()\n",
    "                descs.append(job_desc)\n",
    "            except:\n",
    "                descs.append('')\n",
    "        except:\n",
    "            descs = [job[2], '', '', '', '']\n",
    "        if len(job_descs) == 0:\n",
    "            job_descs = np.append(job_descs, descs)\n",
    "        else:\n",
    "            job_descs = np.vstack([job_descs, descs])\n",
    "    \n",
    "    # merging\n",
    "    jobs_df = pd.DataFrame(jobs_scraped)\n",
    "    jobs_df.columns = ['title', 'link', 'company', 'posted']\n",
    "    job_descs_df = pd.DataFrame(job_descs)\n",
    "    \n",
    "    # if there is only 1 scraped job\n",
    "    if job_descs_df.shape == (5,1):\n",
    "        job_descs_df = job_descs_df.T\n",
    "    \n",
    "    job_descs_df.columns = ['link', 'location', 'job_func', 'emp_type', 'job_desc']\n",
    "    jobstreet_df = jobs_df.merge(job_descs_df, on='link', how='left')\n",
    "except:\n",
    "    print(\"Unable to Scrape Jobstreet\")\n",
    "finally:\n",
    "    # close the driver\n",
    "    try:\n",
    "        driver.close()\n",
    "    except:\n",
    "        print(\"Unable to Scrape Jobstreet\")\n",
    "end = time.time()\n",
    "print(\"TOTAL TIME\", end-start)"
   ]
  },
  {
   "cell_type": "markdown",
   "id": "6e46d883-df6d-4f48-94da-7114c5b65b4e",
   "metadata": {},
   "source": [
    "# Scraping Kalibrr"
   ]
  },
  {
   "cell_type": "code",
   "execution_count": 121,
   "id": "1dffd237-1fcf-4c4b-b8b0-d8b2fd012667",
   "metadata": {},
   "outputs": [],
   "source": [
    "job_query = \"python-developer\"\n",
    "len_jobs = 30"
   ]
  },
  {
   "cell_type": "code",
   "execution_count": 122,
   "id": "7cf39573-3825-4930-bfbe-261ad806650a",
   "metadata": {},
   "outputs": [
    {
     "name": "stdout",
     "output_type": "stream",
     "text": [
      "TOTAL TIME 37.50219678878784\n"
     ]
    }
   ],
   "source": [
    "start = time.time()\n",
    "driver = webdriver.Chrome(service=Service(ChromeDriverManager().install()))\n",
    "url = f\"https://www.kalibrr.com/home/te/{job_query}\"\n",
    "\n",
    "try:\n",
    "    driver.get(url)\n",
    "    job_list = []\n",
    "    # load job list \n",
    "    while len(job_list) < len_jobs:\n",
    "        # click button to load more jobs until job_list > len_jobs\n",
    "        try:\n",
    "            # Re-evaluate job_list after each load\n",
    "            wait = WebDriverWait(driver, 5)\n",
    "            job_list = wait.until(EC.presence_of_all_elements_located((By.XPATH, \"//div[@class='k-font-dm-sans k-rounded-lg k-bg-white k-border-solid k-border hover:k-border-2 hover:k-border-primary-color k-border k-group k-flex k-flex-col k-justify-between css-1otdiuc']\")))\n",
    "            \n",
    "            load_more = wait.until(EC.presence_of_element_located((By.XPATH, \"//button[@class='k-btn-primary']\")))\n",
    "            load_more.click()\n",
    "        except:\n",
    "            break\n",
    "    job_list[:len_jobs]\n",
    "    \n",
    "    # job catalog scraping\n",
    "    jobs_scraped = np.array([])\n",
    "    i = 0\n",
    "    for job in job_list:\n",
    "        i += 1\n",
    "        descs = []\n",
    "        # scraping job title, company, emp_type, location\n",
    "        try:\n",
    "            job_title = job.find_element(By.XPATH, \".//h2[@data-tooltip-id='job-title-tooltip-[object Object]']/a\")\n",
    "            url = job_title.get_attribute('href')\n",
    "            job_title = job_title.get_attribute('innerHTML').replace('\\n', '').strip()\n",
    "            descs.append(job_title)\n",
    "            descs.append(url)\n",
    "        except:\n",
    "            continue\n",
    "    \n",
    "        try:\n",
    "            company = job.find_element(By.XPATH, \".//span[@class='k-inline-flex k-items-center k-mb-1']/a\")\n",
    "            company = company.text.replace('\\n', '').strip()\n",
    "            descs.append(company)\n",
    "        except:\n",
    "            descs.append('')\n",
    "            \n",
    "        try:\n",
    "            emp_type = job.find_element(By.XPATH, \"./div[@class='k-relative']/div/span/span[@class='k-text-gray-500']\")\n",
    "            emp_type = emp_type.get_attribute('innerHTML').replace('\\n', '').strip()\n",
    "            descs.append(emp_type)\n",
    "        except:\n",
    "            descs.append('')\n",
    "    \n",
    "        try:\n",
    "            location = job.find_element(By.XPATH, \"./div[@class='k-relative']/div/span/span[@class='k-text-gray-500 k-block k-pointer-events-none']\")\n",
    "            location = location.get_attribute('innerHTML').replace('\\n', '').strip()\n",
    "            descs.append(location)\n",
    "        except:\n",
    "            descs.append('')\n",
    "            \n",
    "        if len(jobs_scraped) == 0:\n",
    "            jobs_scraped = np.append(jobs_scraped, descs)\n",
    "        else:\n",
    "            jobs_scraped = np.vstack([jobs_scraped, descs])\n",
    "\n",
    "        # limit to len_jobs only\n",
    "        if len(jobs_scraped) >= len_jobs:\n",
    "            break\n",
    "    \n",
    "    if jobs_scraped.shape == (5,):\n",
    "        jobs_scraped = np.array([list(jobs_scraped)])\n",
    "    \n",
    "    # individual job scraping\n",
    "    job_descs = np.array([])\n",
    "    for job in jobs_scraped:\n",
    "        descs = [job[1]]\n",
    "        try:\n",
    "            driver.get(job[1])\n",
    "            # scrape job_func, posted\n",
    "            try:\n",
    "                wait = WebDriverWait(driver, timeout=2)\n",
    "                job_func = wait.until(EC.presence_of_element_located((By.XPATH, \".//div[@class='md:k-flex']//dt[contains(text(),'Job Category')]/following-sibling::dd/a\")))\n",
    "                job_func = job_func.get_attribute('innerHTML').replace('\\n', '').strip()\n",
    "                descs.append(job_func)\n",
    "            except:\n",
    "                descs.append('')\n",
    "            try:\n",
    "                posted = driver.find_element(By.XPATH, \".//div[@class='k-text-subdued k-text-caption md:k-text-right md:k-absolute md:k-right-0 md:k-top-0 md:k-p-4']/p\")\n",
    "                posted = posted.get_attribute('innerHTML').replace('\\n', '').strip()\n",
    "                descs.append(posted)\n",
    "            except:\n",
    "                descs.append('')\n",
    "            # scrape desc\n",
    "            job_desc = ''\n",
    "            try:\n",
    "                job_desc = driver.find_element(By.XPATH, \".//div[@itemprop='description']\")\n",
    "                job_desc = job_desc.get_attribute('innerHTML')\n",
    "                job_desc += job_desc\n",
    "            except:\n",
    "                job_desc = job_desc\n",
    "            try:\n",
    "                job_qual = driver.find_element(By.XPATH, \".//div[@itemprop='qualifications']\")\n",
    "                job_qual = job_qual.get_attribute('innerHTML')\n",
    "                job_desc += job_qual\n",
    "            except:\n",
    "                job_desc = job_desc\n",
    "            try:\n",
    "                job_benef = driver.find_element(By.XPATH, \".//div[@itemprop='jobBenefits']\")\n",
    "                job_benef = job_benef.get_attribute('innerHTML').replace('\\n', '').strip()\n",
    "                job_desc += job_qual\n",
    "            except:\n",
    "                job_desc = job_desc\n",
    "            try:\n",
    "                job_skills = driver.find_element(By.XPATH, \".//ul\")\n",
    "                job_skills = job_skills.get_attribute('innerHTML')\n",
    "                job_desc += job_skills\n",
    "            except:\n",
    "                job_desc = job_desc\n",
    "        \n",
    "            descs.append(job_desc)\n",
    "        \n",
    "            if len(job_descs) == 0:\n",
    "                job_descs = np.append(job_descs, descs)\n",
    "            else:\n",
    "                job_descs = np.vstack([job_descs, descs])\n",
    "        except:\n",
    "            continue\n",
    "    \n",
    "    jobs_df = pd.DataFrame(jobs_scraped)\n",
    "    jobs_df.columns = ['title', 'link' ,'company', 'emp_type', 'location']\n",
    "    \n",
    "    job_descs_df = pd.DataFrame(job_descs)\n",
    "    \n",
    "    if job_descs_df.shape == (3, 1):\n",
    "        job_descs_df = job_descs_df.T\n",
    "    job_descs_df.columns = ['link', 'job_func', 'posted', 'job_desc']\n",
    "    kalibrr_df = jobs_df.merge(job_descs_df, on='link', how='left')\n",
    "\n",
    "except:\n",
    "    print(\"Unable to Scrape Kalibrr\")\n",
    "finally:\n",
    "    # close driver\n",
    "    try:\n",
    "        driver.close()\n",
    "    except:\n",
    "        print(\"Unable to Scrape Kalibrr\")\n",
    "\n",
    "end = time.time()\n",
    "print(\"TOTAL TIME\", end-start)    "
   ]
  },
  {
   "cell_type": "markdown",
   "id": "c1945ab3-830f-4cb0-8520-d9afc949fd14",
   "metadata": {},
   "source": [
    "# Checkpoint"
   ]
  },
  {
   "cell_type": "code",
   "execution_count": 123,
   "id": "25255944-69bd-4d5f-be96-858b2b381884",
   "metadata": {},
   "outputs": [],
   "source": [
    "# saving\n",
    "linkedin_df.to_csv('linkedin.csv')\n",
    "foundit_df.to_csv('foundit.csv')\n",
    "jobstreet_df.to_csv('jobstreet.csv')\n",
    "kalibrr_df.to_csv('kalibrr.csv')"
   ]
  },
  {
   "cell_type": "code",
   "execution_count": 124,
   "id": "482ad4d7-e34e-4286-9219-d5b3dbe600a2",
   "metadata": {},
   "outputs": [],
   "source": [
    "# loading\n",
    "linkedin_df = pd.read_csv('linkedin.csv')\n",
    "foundit_df = pd.read_csv('foundit.csv')\n",
    "jobstreet_df = pd.read_csv('jobstreet.csv')\n",
    "kalibrr_df = pd.read_csv('kalibrr.csv')"
   ]
  },
  {
   "cell_type": "markdown",
   "id": "b2bcb2b9",
   "metadata": {},
   "source": [
    "# Preprocessing"
   ]
  },
  {
   "cell_type": "code",
   "execution_count": 125,
   "id": "9cfde692-b079-4fa7-ab24-499c9353dce1",
   "metadata": {},
   "outputs": [
    {
     "data": {
      "text/plain": [
       "Index(['Unnamed: 0', 'title', 'link', 'location', 'company', 'emp_type',\n",
       "       'job_func', 'job_desc', 'posted'],\n",
       "      dtype='object')"
      ]
     },
     "execution_count": 125,
     "metadata": {},
     "output_type": "execute_result"
    }
   ],
   "source": [
    "linkedin_df.columns"
   ]
  },
  {
   "cell_type": "code",
   "execution_count": 126,
   "id": "d7b96fe0-0bc1-45fb-87a8-a87fcf6ef89e",
   "metadata": {},
   "outputs": [
    {
     "data": {
      "text/plain": [
       "Index(['Unnamed: 0', 'title', 'company', 'link', 'location', 'posted',\n",
       "       'emp_type', 'job_func', 'job_desc'],\n",
       "      dtype='object')"
      ]
     },
     "execution_count": 126,
     "metadata": {},
     "output_type": "execute_result"
    }
   ],
   "source": [
    "foundit_df.columns"
   ]
  },
  {
   "cell_type": "code",
   "execution_count": 127,
   "id": "b4930d65-1f3a-46dc-8c71-c8ad2b234f46",
   "metadata": {},
   "outputs": [
    {
     "data": {
      "text/plain": [
       "Index(['Unnamed: 0', 'title', 'link', 'company', 'posted', 'location',\n",
       "       'job_func', 'emp_type', 'job_desc'],\n",
       "      dtype='object')"
      ]
     },
     "execution_count": 127,
     "metadata": {},
     "output_type": "execute_result"
    }
   ],
   "source": [
    "jobstreet_df.columns"
   ]
  },
  {
   "cell_type": "code",
   "execution_count": 128,
   "id": "0efc3f31",
   "metadata": {},
   "outputs": [
    {
     "data": {
      "text/plain": [
       "Index(['Unnamed: 0', 'title', 'link', 'company', 'emp_type', 'location',\n",
       "       'job_func', 'posted', 'job_desc'],\n",
       "      dtype='object')"
      ]
     },
     "execution_count": 128,
     "metadata": {},
     "output_type": "execute_result"
    }
   ],
   "source": [
    "kalibrr_df.columns"
   ]
  },
  {
   "cell_type": "code",
   "execution_count": 129,
   "id": "402b6d6c",
   "metadata": {},
   "outputs": [],
   "source": [
    "# Drop 'Unnamed: 0' column\n",
    "linkedin_df = linkedin_df.drop(columns=['Unnamed: 0'], errors='ignore')\n",
    "foundit_df = foundit_df.drop(columns=['Unnamed: 0'], errors='ignore')\n",
    "jobstreet_df = jobstreet_df.drop(columns=['Unnamed: 0'], errors='ignore')\n",
    "kalibrr_df = kalibrr_df.drop(columns=['Unnamed: 0'], errors='ignore')"
   ]
  },
  {
   "cell_type": "markdown",
   "id": "865c5a40",
   "metadata": {},
   "source": [
    "## Standardizing Job Functions"
   ]
  },
  {
   "cell_type": "code",
   "execution_count": 130,
   "id": "33ef0e0c",
   "metadata": {},
   "outputs": [
    {
     "data": {
      "text/html": [
       "<div>\n",
       "<style scoped>\n",
       "    .dataframe tbody tr th:only-of-type {\n",
       "        vertical-align: middle;\n",
       "    }\n",
       "\n",
       "    .dataframe tbody tr th {\n",
       "        vertical-align: top;\n",
       "    }\n",
       "\n",
       "    .dataframe thead th {\n",
       "        text-align: right;\n",
       "    }\n",
       "</style>\n",
       "<table border=\"1\" class=\"dataframe\">\n",
       "  <thead>\n",
       "    <tr style=\"text-align: right;\">\n",
       "      <th></th>\n",
       "      <th>Standardized</th>\n",
       "      <th>Linkedin</th>\n",
       "      <th>Foundit</th>\n",
       "      <th>Kalibrr</th>\n",
       "      <th>Jobstreet</th>\n",
       "    </tr>\n",
       "  </thead>\n",
       "  <tbody>\n",
       "    <tr>\n",
       "      <th>0</th>\n",
       "      <td>Accounting &amp; Auditing</td>\n",
       "      <td>Accounting/Auditing</td>\n",
       "      <td>NaN</td>\n",
       "      <td>Accounting and Finance</td>\n",
       "      <td>Accounting</td>\n",
       "    </tr>\n",
       "    <tr>\n",
       "      <th>1</th>\n",
       "      <td>Administration &amp; Office Support</td>\n",
       "      <td>Administrative</td>\n",
       "      <td>Admin/secretarial/front office</td>\n",
       "      <td>Adminstration and Coordination</td>\n",
       "      <td>Administration &amp; Office Support</td>\n",
       "    </tr>\n",
       "    <tr>\n",
       "      <th>2</th>\n",
       "      <td>Advertising</td>\n",
       "      <td>NaN</td>\n",
       "      <td>Advertising/entertainment/media</td>\n",
       "      <td>Media and Creatives</td>\n",
       "      <td>Advertising, Arts &amp; Media</td>\n",
       "    </tr>\n",
       "    <tr>\n",
       "      <th>3</th>\n",
       "      <td>Analyst</td>\n",
       "      <td>Analyst</td>\n",
       "      <td>Analytics/business intelligence</td>\n",
       "      <td>NaN</td>\n",
       "      <td>NaN</td>\n",
       "    </tr>\n",
       "    <tr>\n",
       "      <th>4</th>\n",
       "      <td>Architecture</td>\n",
       "      <td>NaN</td>\n",
       "      <td>Architecture/interior design</td>\n",
       "      <td>Architecture and Engineering</td>\n",
       "      <td>Design &amp; Architecture</td>\n",
       "    </tr>\n",
       "    <tr>\n",
       "      <th>...</th>\n",
       "      <td>...</td>\n",
       "      <td>...</td>\n",
       "      <td>...</td>\n",
       "      <td>...</td>\n",
       "      <td>...</td>\n",
       "    </tr>\n",
       "    <tr>\n",
       "      <th>64</th>\n",
       "      <td>Sales</td>\n",
       "      <td>NaN</td>\n",
       "      <td>Sales/business development</td>\n",
       "      <td>NaN</td>\n",
       "      <td>NaN</td>\n",
       "    </tr>\n",
       "    <tr>\n",
       "      <th>65</th>\n",
       "      <td>Sales</td>\n",
       "      <td>Entrepreneurship</td>\n",
       "      <td>Retail chains</td>\n",
       "      <td>NaN</td>\n",
       "      <td>NaN</td>\n",
       "    </tr>\n",
       "    <tr>\n",
       "      <th>66</th>\n",
       "      <td>Sales</td>\n",
       "      <td>NaN</td>\n",
       "      <td>Fashion/apparels</td>\n",
       "      <td>NaN</td>\n",
       "      <td>NaN</td>\n",
       "    </tr>\n",
       "    <tr>\n",
       "      <th>67</th>\n",
       "      <td>Sciences</td>\n",
       "      <td>Research</td>\n",
       "      <td>NaN</td>\n",
       "      <td>Sciences</td>\n",
       "      <td>Science &amp; Technology</td>\n",
       "    </tr>\n",
       "    <tr>\n",
       "      <th>68</th>\n",
       "      <td>Security</td>\n",
       "      <td>Military and Protective Services</td>\n",
       "      <td>Guards/security services</td>\n",
       "      <td>Safety and Security</td>\n",
       "      <td>NaN</td>\n",
       "    </tr>\n",
       "  </tbody>\n",
       "</table>\n",
       "<p>69 rows × 5 columns</p>\n",
       "</div>"
      ],
      "text/plain": [
       "                       Standardized                          Linkedin  \\\n",
       "0             Accounting & Auditing               Accounting/Auditing   \n",
       "1   Administration & Office Support                    Administrative   \n",
       "2                       Advertising                               NaN   \n",
       "3                           Analyst                           Analyst   \n",
       "4                      Architecture                               NaN   \n",
       "..                              ...                               ...   \n",
       "64                            Sales                               NaN   \n",
       "65                            Sales                  Entrepreneurship   \n",
       "66                            Sales                               NaN   \n",
       "67                         Sciences                          Research   \n",
       "68                         Security  Military and Protective Services   \n",
       "\n",
       "                            Foundit                         Kalibrr  \\\n",
       "0                               NaN          Accounting and Finance   \n",
       "1    Admin/secretarial/front office  Adminstration and Coordination   \n",
       "2   Advertising/entertainment/media             Media and Creatives   \n",
       "3   Analytics/business intelligence                             NaN   \n",
       "4      Architecture/interior design    Architecture and Engineering   \n",
       "..                              ...                             ...   \n",
       "64       Sales/business development                             NaN   \n",
       "65                    Retail chains                             NaN   \n",
       "66                 Fashion/apparels                             NaN   \n",
       "67                              NaN                        Sciences   \n",
       "68         Guards/security services             Safety and Security   \n",
       "\n",
       "                          Jobstreet  \n",
       "0                        Accounting  \n",
       "1   Administration & Office Support  \n",
       "2         Advertising, Arts & Media  \n",
       "3                               NaN  \n",
       "4             Design & Architecture  \n",
       "..                              ...  \n",
       "64                              NaN  \n",
       "65                              NaN  \n",
       "66                              NaN  \n",
       "67             Science & Technology  \n",
       "68                              NaN  \n",
       "\n",
       "[69 rows x 5 columns]"
      ]
     },
     "execution_count": 130,
     "metadata": {},
     "output_type": "execute_result"
    }
   ],
   "source": [
    "sheet_id = \"1FJgg2JWrKfzyWbi-76vKcR1dm-q6RwCAipobzotr_Eg\"\n",
    "sheet_name = \"Job_Functions\"\n",
    "\n",
    "url= f\"https://docs.google.com/spreadsheets/d/{sheet_id}/gviz/tq?tqx=out:csv&sheet={sheet_name}\"\n",
    "\n",
    "df_jobs = pd.read_csv(url)\n",
    "\n",
    "df_jobs"
   ]
  },
  {
   "cell_type": "code",
   "execution_count": 131,
   "id": "0331a2e7",
   "metadata": {},
   "outputs": [],
   "source": [
    "def standardize_job_function_column(df, mapping_dict, source_col):\n",
    "    df['job_func_stand'] = df[source_col].apply(\n",
    "        lambda x: \", \".join(\n",
    "            mapping_dict.get(f.strip(), f.strip()) \n",
    "            for f in str(x).split(\",\") if f.strip()\n",
    "        )\n",
    "    )"
   ]
  },
  {
   "cell_type": "markdown",
   "id": "63059842",
   "metadata": {},
   "source": [
    "### Linkedin"
   ]
  },
  {
   "cell_type": "code",
   "execution_count": 132,
   "id": "93502176",
   "metadata": {},
   "outputs": [
    {
     "data": {
      "text/plain": [
       "{'Accounting/Auditing': 'Accounting & Auditing',\n",
       " 'Administrative': 'Administration & Office Support',\n",
       " 'Analyst': 'Analyst',\n",
       " 'Arts and Design': 'Arts and Graphics Design',\n",
       " 'Finance': 'Banking & Financial Services'}"
      ]
     },
     "execution_count": 132,
     "metadata": {},
     "output_type": "execute_result"
    }
   ],
   "source": [
    "linkedin_stand_jf = dict(zip(\n",
    "    df_jobs.dropna(subset=['Linkedin', 'Standardized'])['Linkedin'],\n",
    "    df_jobs.dropna(subset=['Linkedin', 'Standardized'])['Standardized']\n",
    "))\n",
    "\n",
    "dict(list(linkedin_stand_jf.items())[:5])\n"
   ]
  },
  {
   "cell_type": "code",
   "execution_count": 133,
   "id": "5e1f515d",
   "metadata": {},
   "outputs": [
    {
     "data": {
      "text/html": [
       "<div>\n",
       "<style scoped>\n",
       "    .dataframe tbody tr th:only-of-type {\n",
       "        vertical-align: middle;\n",
       "    }\n",
       "\n",
       "    .dataframe tbody tr th {\n",
       "        vertical-align: top;\n",
       "    }\n",
       "\n",
       "    .dataframe thead th {\n",
       "        text-align: right;\n",
       "    }\n",
       "</style>\n",
       "<table border=\"1\" class=\"dataframe\">\n",
       "  <thead>\n",
       "    <tr style=\"text-align: right;\">\n",
       "      <th></th>\n",
       "      <th>job_func</th>\n",
       "      <th>job_func_stand</th>\n",
       "    </tr>\n",
       "  </thead>\n",
       "  <tbody>\n",
       "    <tr>\n",
       "      <th>0</th>\n",
       "      <td>Engineering, Information Technology</td>\n",
       "      <td>Engineering, Information Technology</td>\n",
       "    </tr>\n",
       "    <tr>\n",
       "      <th>1</th>\n",
       "      <td>Engineering, Information Technology</td>\n",
       "      <td>Engineering, Information Technology</td>\n",
       "    </tr>\n",
       "    <tr>\n",
       "      <th>2</th>\n",
       "      <td>Engineering, Information Technology</td>\n",
       "      <td>Engineering, Information Technology</td>\n",
       "    </tr>\n",
       "    <tr>\n",
       "      <th>3</th>\n",
       "      <td>Engineering, Information Technology</td>\n",
       "      <td>Engineering, Information Technology</td>\n",
       "    </tr>\n",
       "    <tr>\n",
       "      <th>4</th>\n",
       "      <td>Engineering, Information Technology</td>\n",
       "      <td>Engineering, Information Technology</td>\n",
       "    </tr>\n",
       "  </tbody>\n",
       "</table>\n",
       "</div>"
      ],
      "text/plain": [
       "                              job_func                       job_func_stand\n",
       "0  Engineering, Information Technology  Engineering, Information Technology\n",
       "1  Engineering, Information Technology  Engineering, Information Technology\n",
       "2  Engineering, Information Technology  Engineering, Information Technology\n",
       "3  Engineering, Information Technology  Engineering, Information Technology\n",
       "4  Engineering, Information Technology  Engineering, Information Technology"
      ]
     },
     "execution_count": 133,
     "metadata": {},
     "output_type": "execute_result"
    }
   ],
   "source": [
    "standardize_job_function_column(linkedin_df, linkedin_stand_jf, 'job_func')\n",
    "\n",
    "linkedin_df[['job_func', 'job_func_stand']].head()"
   ]
  },
  {
   "cell_type": "markdown",
   "id": "9864d886",
   "metadata": {},
   "source": [
    "### Foundit"
   ]
  },
  {
   "cell_type": "code",
   "execution_count": 134,
   "id": "2dceb77d",
   "metadata": {},
   "outputs": [
    {
     "data": {
      "text/plain": [
       "{'Admin/secretarial/front office': 'Administration & Office Support',\n",
       " 'Advertising/entertainment/media': 'Advertising',\n",
       " 'Analytics/business intelligence': 'Analyst',\n",
       " 'Architecture/interior design': 'Architecture',\n",
       " 'Arts/creative/graphics design': 'Arts and Graphics Design'}"
      ]
     },
     "execution_count": 134,
     "metadata": {},
     "output_type": "execute_result"
    }
   ],
   "source": [
    "foundit_stand_jf = dict(zip(\n",
    "    df_jobs.dropna(subset=['Foundit', 'Standardized'])['Foundit'],\n",
    "    df_jobs.dropna(subset=['Foundit', 'Standardized'])['Standardized']\n",
    "))\n",
    "\n",
    "\n",
    "dict(list(foundit_stand_jf.items())[:5])\n"
   ]
  },
  {
   "cell_type": "code",
   "execution_count": 135,
   "id": "ac033912",
   "metadata": {},
   "outputs": [],
   "source": [
    "# standardize_job_function_column(foundit_df, foundit_stand_jf, 'job_func')\n",
    "\n",
    "# foundit_df[['job_func', 'job_func_stand']]"
   ]
  },
  {
   "cell_type": "code",
   "execution_count": 136,
   "id": "fd13eddb",
   "metadata": {},
   "outputs": [],
   "source": [
    "# foundit_df[['job_func', 'job_func_stand']]"
   ]
  },
  {
   "cell_type": "markdown",
   "id": "881adc9c",
   "metadata": {},
   "source": [
    "### Kalibrr"
   ]
  },
  {
   "cell_type": "code",
   "execution_count": 137,
   "id": "46ceade7",
   "metadata": {},
   "outputs": [
    {
     "data": {
      "text/plain": [
       "{'Accounting and Finance': 'Accounting & Auditing',\n",
       " 'Adminstration and Coordination': 'Administration & Office Support',\n",
       " 'Media and Creatives': 'Advertising',\n",
       " 'Architecture and Engineering': 'Architecture',\n",
       " 'Arts and Sports': 'Arts and Graphics Design'}"
      ]
     },
     "execution_count": 137,
     "metadata": {},
     "output_type": "execute_result"
    }
   ],
   "source": [
    "kalibrr_stand_jf = dict(zip(\n",
    "    df_jobs.dropna(subset=['Kalibrr', 'Standardized'])['Kalibrr'],\n",
    "    df_jobs.dropna(subset=['Kalibrr', 'Standardized'])['Standardized']\n",
    "))\n",
    "\n",
    "\n",
    "dict(list(kalibrr_stand_jf.items())[:5])"
   ]
  },
  {
   "cell_type": "code",
   "execution_count": 138,
   "id": "edf2ffc6",
   "metadata": {},
   "outputs": [
    {
     "data": {
      "text/html": [
       "<div>\n",
       "<style scoped>\n",
       "    .dataframe tbody tr th:only-of-type {\n",
       "        vertical-align: middle;\n",
       "    }\n",
       "\n",
       "    .dataframe tbody tr th {\n",
       "        vertical-align: top;\n",
       "    }\n",
       "\n",
       "    .dataframe thead th {\n",
       "        text-align: right;\n",
       "    }\n",
       "</style>\n",
       "<table border=\"1\" class=\"dataframe\">\n",
       "  <thead>\n",
       "    <tr style=\"text-align: right;\">\n",
       "      <th></th>\n",
       "      <th>job_func</th>\n",
       "      <th>job_func_stand</th>\n",
       "    </tr>\n",
       "  </thead>\n",
       "  <tbody>\n",
       "    <tr>\n",
       "      <th>0</th>\n",
       "      <td>IT and Software</td>\n",
       "      <td>Information Technology</td>\n",
       "    </tr>\n",
       "    <tr>\n",
       "      <th>1</th>\n",
       "      <td>IT and Software</td>\n",
       "      <td>Information Technology</td>\n",
       "    </tr>\n",
       "    <tr>\n",
       "      <th>2</th>\n",
       "      <td>IT and Software</td>\n",
       "      <td>Information Technology</td>\n",
       "    </tr>\n",
       "    <tr>\n",
       "      <th>3</th>\n",
       "      <td>IT and Software</td>\n",
       "      <td>Information Technology</td>\n",
       "    </tr>\n",
       "    <tr>\n",
       "      <th>4</th>\n",
       "      <td>IT and Software</td>\n",
       "      <td>Information Technology</td>\n",
       "    </tr>\n",
       "  </tbody>\n",
       "</table>\n",
       "</div>"
      ],
      "text/plain": [
       "          job_func          job_func_stand\n",
       "0  IT and Software  Information Technology\n",
       "1  IT and Software  Information Technology\n",
       "2  IT and Software  Information Technology\n",
       "3  IT and Software  Information Technology\n",
       "4  IT and Software  Information Technology"
      ]
     },
     "execution_count": 138,
     "metadata": {},
     "output_type": "execute_result"
    }
   ],
   "source": [
    "standardize_job_function_column(kalibrr_df, kalibrr_stand_jf, 'job_func')\n",
    "\n",
    "kalibrr_df[['job_func', 'job_func_stand']].head()"
   ]
  },
  {
   "cell_type": "markdown",
   "id": "ae332c02",
   "metadata": {},
   "source": [
    "### Jobstreet"
   ]
  },
  {
   "cell_type": "code",
   "execution_count": 139,
   "id": "c9a776cc",
   "metadata": {},
   "outputs": [
    {
     "data": {
      "text/plain": [
       "{'Accounting': 'Accounting & Auditing',\n",
       " 'Administration & Office Support': 'Administration & Office Support',\n",
       " 'Advertising, Arts & Media': 'Advertising',\n",
       " 'Design & Architecture': 'Architecture',\n",
       " 'Banking & Financial Services': 'Banking & Financial Services'}"
      ]
     },
     "execution_count": 139,
     "metadata": {},
     "output_type": "execute_result"
    }
   ],
   "source": [
    "jobstreet_stand_jf = dict(zip(\n",
    "    df_jobs.dropna(subset=['Jobstreet', 'Standardized'])['Jobstreet'],\n",
    "    df_jobs.dropna(subset=['Jobstreet', 'Standardized'])['Standardized']\n",
    "))\n",
    "\n",
    "dict(list(jobstreet_stand_jf.items())[:5])"
   ]
  },
  {
   "cell_type": "code",
   "execution_count": 140,
   "id": "2c7a989e",
   "metadata": {},
   "outputs": [
    {
     "data": {
      "text/plain": [
       "0    Information & Communication Technology\n",
       "1    Information & Communication Technology\n",
       "2    Information & Communication Technology\n",
       "3    Information & Communication Technology\n",
       "4    Information & Communication Technology\n",
       "Name: job_func_clean, dtype: object"
      ]
     },
     "execution_count": 140,
     "metadata": {},
     "output_type": "execute_result"
    }
   ],
   "source": [
    "jobstreet_df['job_func_clean'] = jobstreet_df['job_func'].str.extract(r'\\(([^)]+)\\)')\n",
    "jobstreet_df['job_func_clean'] = jobstreet_df['job_func_clean'].str.replace('&amp;', '&', regex=False)\n",
    "\n",
    "\n",
    "jobstreet_df['job_func_clean'].head()"
   ]
  },
  {
   "cell_type": "code",
   "execution_count": 141,
   "id": "fa4b4212",
   "metadata": {},
   "outputs": [
    {
     "data": {
      "text/html": [
       "<div>\n",
       "<style scoped>\n",
       "    .dataframe tbody tr th:only-of-type {\n",
       "        vertical-align: middle;\n",
       "    }\n",
       "\n",
       "    .dataframe tbody tr th {\n",
       "        vertical-align: top;\n",
       "    }\n",
       "\n",
       "    .dataframe thead th {\n",
       "        text-align: right;\n",
       "    }\n",
       "</style>\n",
       "<table border=\"1\" class=\"dataframe\">\n",
       "  <thead>\n",
       "    <tr style=\"text-align: right;\">\n",
       "      <th></th>\n",
       "      <th>job_func_clean</th>\n",
       "      <th>job_func_stand</th>\n",
       "    </tr>\n",
       "  </thead>\n",
       "  <tbody>\n",
       "    <tr>\n",
       "      <th>0</th>\n",
       "      <td>Information &amp; Communication Technology</td>\n",
       "      <td>Information Technology</td>\n",
       "    </tr>\n",
       "    <tr>\n",
       "      <th>1</th>\n",
       "      <td>Information &amp; Communication Technology</td>\n",
       "      <td>Information Technology</td>\n",
       "    </tr>\n",
       "    <tr>\n",
       "      <th>2</th>\n",
       "      <td>Information &amp; Communication Technology</td>\n",
       "      <td>Information Technology</td>\n",
       "    </tr>\n",
       "    <tr>\n",
       "      <th>3</th>\n",
       "      <td>Information &amp; Communication Technology</td>\n",
       "      <td>Information Technology</td>\n",
       "    </tr>\n",
       "    <tr>\n",
       "      <th>4</th>\n",
       "      <td>Information &amp; Communication Technology</td>\n",
       "      <td>Information Technology</td>\n",
       "    </tr>\n",
       "  </tbody>\n",
       "</table>\n",
       "</div>"
      ],
      "text/plain": [
       "                           job_func_clean          job_func_stand\n",
       "0  Information & Communication Technology  Information Technology\n",
       "1  Information & Communication Technology  Information Technology\n",
       "2  Information & Communication Technology  Information Technology\n",
       "3  Information & Communication Technology  Information Technology\n",
       "4  Information & Communication Technology  Information Technology"
      ]
     },
     "execution_count": 141,
     "metadata": {},
     "output_type": "execute_result"
    }
   ],
   "source": [
    "standardize_job_function_column(jobstreet_df, jobstreet_stand_jf, 'job_func_clean')\n",
    "\n",
    "jobstreet_df[['job_func_clean', 'job_func_stand']].head()"
   ]
  },
  {
   "cell_type": "markdown",
   "id": "e85ca836",
   "metadata": {},
   "source": [
    "## Standardizing Location"
   ]
  },
  {
   "cell_type": "code",
   "execution_count": 142,
   "id": "5e275b09",
   "metadata": {},
   "outputs": [
    {
     "data": {
      "text/html": [
       "<div>\n",
       "<style scoped>\n",
       "    .dataframe tbody tr th:only-of-type {\n",
       "        vertical-align: middle;\n",
       "    }\n",
       "\n",
       "    .dataframe tbody tr th {\n",
       "        vertical-align: top;\n",
       "    }\n",
       "\n",
       "    .dataframe thead th {\n",
       "        text-align: right;\n",
       "    }\n",
       "</style>\n",
       "<table border=\"1\" class=\"dataframe\">\n",
       "  <thead>\n",
       "    <tr style=\"text-align: right;\">\n",
       "      <th></th>\n",
       "      <th>City/Province</th>\n",
       "      <th>Region</th>\n",
       "      <th>Type</th>\n",
       "      <th>city_clean</th>\n",
       "    </tr>\n",
       "  </thead>\n",
       "  <tbody>\n",
       "    <tr>\n",
       "      <th>0</th>\n",
       "      <td>Caloocan City</td>\n",
       "      <td>National Capital Region (NCR)</td>\n",
       "      <td>City</td>\n",
       "      <td>Caloocan</td>\n",
       "    </tr>\n",
       "    <tr>\n",
       "      <th>1</th>\n",
       "      <td>Las Pinas City</td>\n",
       "      <td>National Capital Region (NCR)</td>\n",
       "      <td>City</td>\n",
       "      <td>Las Pinas</td>\n",
       "    </tr>\n",
       "    <tr>\n",
       "      <th>2</th>\n",
       "      <td>Makati City</td>\n",
       "      <td>National Capital Region (NCR)</td>\n",
       "      <td>City</td>\n",
       "      <td>Makati</td>\n",
       "    </tr>\n",
       "    <tr>\n",
       "      <th>3</th>\n",
       "      <td>Malabon City</td>\n",
       "      <td>National Capital Region (NCR)</td>\n",
       "      <td>City</td>\n",
       "      <td>Malabon</td>\n",
       "    </tr>\n",
       "    <tr>\n",
       "      <th>4</th>\n",
       "      <td>Mandaluyong City</td>\n",
       "      <td>National Capital Region (NCR)</td>\n",
       "      <td>City</td>\n",
       "      <td>Mandaluyong</td>\n",
       "    </tr>\n",
       "    <tr>\n",
       "      <th>...</th>\n",
       "      <td>...</td>\n",
       "      <td>...</td>\n",
       "      <td>...</td>\n",
       "      <td>...</td>\n",
       "    </tr>\n",
       "    <tr>\n",
       "      <th>225</th>\n",
       "      <td>Lanao del Sur</td>\n",
       "      <td>Bangsamoro Autonomous Region in Muslim Mindana...</td>\n",
       "      <td>Province</td>\n",
       "      <td>Lanao del Sur</td>\n",
       "    </tr>\n",
       "    <tr>\n",
       "      <th>226</th>\n",
       "      <td>Sulu</td>\n",
       "      <td>Bangsamoro Autonomous Region in Muslim Mindana...</td>\n",
       "      <td>Province</td>\n",
       "      <td>Sulu</td>\n",
       "    </tr>\n",
       "    <tr>\n",
       "      <th>227</th>\n",
       "      <td>Tawi-Tawi</td>\n",
       "      <td>Bangsamoro Autonomous Region in Muslim Mindana...</td>\n",
       "      <td>Province</td>\n",
       "      <td>Tawi-Tawi</td>\n",
       "    </tr>\n",
       "    <tr>\n",
       "      <th>228</th>\n",
       "      <td>Maguindanao del Norte</td>\n",
       "      <td>Bangsamoro Autonomous Region in Muslim Mindana...</td>\n",
       "      <td>Province</td>\n",
       "      <td>Maguindanao del Norte</td>\n",
       "    </tr>\n",
       "    <tr>\n",
       "      <th>229</th>\n",
       "      <td>Maguindanao del Sur</td>\n",
       "      <td>Bangsamoro Autonomous Region in Muslim Mindana...</td>\n",
       "      <td>Province</td>\n",
       "      <td>Maguindanao del Sur</td>\n",
       "    </tr>\n",
       "  </tbody>\n",
       "</table>\n",
       "<p>230 rows × 4 columns</p>\n",
       "</div>"
      ],
      "text/plain": [
       "             City/Province                                             Region  \\\n",
       "0            Caloocan City                      National Capital Region (NCR)   \n",
       "1           Las Pinas City                      National Capital Region (NCR)   \n",
       "2              Makati City                      National Capital Region (NCR)   \n",
       "3             Malabon City                      National Capital Region (NCR)   \n",
       "4         Mandaluyong City                      National Capital Region (NCR)   \n",
       "..                     ...                                                ...   \n",
       "225          Lanao del Sur  Bangsamoro Autonomous Region in Muslim Mindana...   \n",
       "226                   Sulu  Bangsamoro Autonomous Region in Muslim Mindana...   \n",
       "227              Tawi-Tawi  Bangsamoro Autonomous Region in Muslim Mindana...   \n",
       "228  Maguindanao del Norte  Bangsamoro Autonomous Region in Muslim Mindana...   \n",
       "229    Maguindanao del Sur  Bangsamoro Autonomous Region in Muslim Mindana...   \n",
       "\n",
       "         Type             city_clean  \n",
       "0        City               Caloocan  \n",
       "1        City              Las Pinas  \n",
       "2        City                 Makati  \n",
       "3        City                Malabon  \n",
       "4        City            Mandaluyong  \n",
       "..        ...                    ...  \n",
       "225  Province          Lanao del Sur  \n",
       "226  Province                   Sulu  \n",
       "227  Province              Tawi-Tawi  \n",
       "228  Province  Maguindanao del Norte  \n",
       "229  Province    Maguindanao del Sur  \n",
       "\n",
       "[230 rows x 4 columns]"
      ]
     },
     "execution_count": 142,
     "metadata": {},
     "output_type": "execute_result"
    }
   ],
   "source": [
    "sheet_id = \"1FJgg2JWrKfzyWbi-76vKcR1dm-q6RwCAipobzotr_Eg\"\n",
    "sheet_name = \"Location\"\n",
    "\n",
    "url= f\"https://docs.google.com/spreadsheets/d/{sheet_id}/gviz/tq?tqx=out:csv&sheet={sheet_name}\"\n",
    "\n",
    "df_locations = pd.read_csv(url)\n",
    "\n",
    "df_locations['city_clean'] = df_locations['City/Province'].str.replace(r'\\s+City$', '', regex=True)\n",
    "\n",
    "\n",
    "df_locations"
   ]
  },
  {
   "cell_type": "code",
   "execution_count": 143,
   "id": "166184cf",
   "metadata": {},
   "outputs": [],
   "source": [
    "def normalize(text):\n",
    "    text = str(text).lower().replace(',', '').replace('-', '').replace('philippines', '').strip()\n",
    "    text = unicodedata.normalize('NFKD', text).encode('ASCII', 'ignore').decode() \n",
    "    \n",
    "    return text\n",
    "\n",
    "def smart_location_match(raw_location, keywords, df_lookup):\n",
    "    raw = normalize(raw_location)\n",
    "\n",
    "    if raw_location.lower().strip() == \"philippines\" or raw == \"other\":\n",
    "        return \"Philippines\"\n",
    "\n",
    "    # Exact keyword match, use fuzzy otherwise\n",
    "    for keyword in keywords:\n",
    "        if normalize(keyword) in raw:\n",
    "            match = keyword\n",
    "            break\n",
    "    else:\n",
    "        match, score, _ = process.extractOne(raw, keywords, processor=normalize)\n",
    "        if score <= 80:\n",
    "            return \"Other\"\n",
    "    \n",
    "    if match in df_lookup['city_clean'].values:\n",
    "        matches = df_lookup[df_lookup['city_clean'] == match]\n",
    "        region = matches['Region'].values[0]\n",
    "        type_ = matches['Type'].values[0]\n",
    "\n",
    "        if type_ == 'City':\n",
    "            return f\"{match} City, {region}\"\n",
    "        else:\n",
    "            return f\"{match}, {region}\"\n",
    "        \n",
    "    elif match in df_lookup['Region'].values:\n",
    "        return match\n",
    "    else:\n",
    "        return \"Other\"\n",
    "\n",
    "keywords = pd.concat([\n",
    "    df_locations['city_clean'], \n",
    "    df_locations['Region']\n",
    "]).dropna().unique().tolist()"
   ]
  },
  {
   "cell_type": "markdown",
   "id": "518b4800",
   "metadata": {},
   "source": [
    "### Linkedin"
   ]
  },
  {
   "cell_type": "code",
   "execution_count": 144,
   "id": "b8cc48e7",
   "metadata": {},
   "outputs": [
    {
     "data": {
      "text/plain": [
       "0    Manila City, National Capital Region (NCR)\n",
       "1                                   Philippines\n",
       "2    Manila City, National Capital Region (NCR)\n",
       "3    Quezon City, National Capital Region (NCR)\n",
       "4    Manila City, National Capital Region (NCR)\n",
       "5    Manila City, National Capital Region (NCR)\n",
       "6    Manila City, National Capital Region (NCR)\n",
       "7    Manila City, National Capital Region (NCR)\n",
       "8    Manila City, National Capital Region (NCR)\n",
       "9    Manila City, National Capital Region (NCR)\n",
       "Name: location_standardized, dtype: object"
      ]
     },
     "execution_count": 144,
     "metadata": {},
     "output_type": "execute_result"
    }
   ],
   "source": [
    "linkedin_df['location_standardized'] = linkedin_df['location'].apply(lambda x: smart_location_match(x, keywords, df_locations))\n",
    "\n",
    "linkedin_df['location_standardized'].head(10)"
   ]
  },
  {
   "cell_type": "code",
   "execution_count": 145,
   "id": "2572fa39",
   "metadata": {},
   "outputs": [
    {
     "data": {
      "text/plain": [
       "location_standardized\n",
       "Manila City, National Capital Region (NCR)    16\n",
       "Philippines                                    8\n",
       "Quezon City, National Capital Region (NCR)     1\n",
       "National Capital Region (NCR)                  1\n",
       "Taguig City, National Capital Region (NCR)     1\n",
       "Makati City, National Capital Region (NCR)     1\n",
       "Pasig City, National Capital Region (NCR)      1\n",
       "Cebu City, Central Visayas (Region VII)        1\n",
       "Name: count, dtype: int64"
      ]
     },
     "execution_count": 145,
     "metadata": {},
     "output_type": "execute_result"
    }
   ],
   "source": [
    "linkedin_df['location_standardized'].value_counts()"
   ]
  },
  {
   "cell_type": "markdown",
   "id": "0f134eb5",
   "metadata": {},
   "source": [
    "### Foundit"
   ]
  },
  {
   "cell_type": "code",
   "execution_count": 146,
   "id": "443aacab",
   "metadata": {},
   "outputs": [
    {
     "data": {
      "text/plain": [
       "0    Quezon City, National Capital Region (NCR)\n",
       "1                  Central Visayas (Region VII)\n",
       "2                                   Philippines\n",
       "3                                   Philippines\n",
       "4    Manila City, National Capital Region (NCR)\n",
       "5    Manila City, National Capital Region (NCR)\n",
       "6                                   Philippines\n",
       "7                                   Philippines\n",
       "8                                   Philippines\n",
       "9                                   Philippines\n",
       "Name: location_standardized, dtype: object"
      ]
     },
     "execution_count": 146,
     "metadata": {},
     "output_type": "execute_result"
    }
   ],
   "source": [
    "foundit_df['location_standardized'] = foundit_df['location'].apply(lambda x: smart_location_match(x, keywords, df_locations))\n",
    "\n",
    "foundit_df['location_standardized'].head(10)"
   ]
  },
  {
   "cell_type": "code",
   "execution_count": 147,
   "id": "e48c9d0d",
   "metadata": {},
   "outputs": [
    {
     "data": {
      "text/plain": [
       "location_standardized\n",
       "Philippines                                   13\n",
       "Taguig City, National Capital Region (NCR)     6\n",
       "Manila City, National Capital Region (NCR)     5\n",
       "Quezon City, National Capital Region (NCR)     4\n",
       "Makati City, National Capital Region (NCR)     2\n",
       "Central Visayas (Region VII)                   1\n",
       "Name: count, dtype: int64"
      ]
     },
     "execution_count": 147,
     "metadata": {},
     "output_type": "execute_result"
    }
   ],
   "source": [
    "foundit_df['location_standardized'].value_counts()"
   ]
  },
  {
   "cell_type": "markdown",
   "id": "b2d9b7ec",
   "metadata": {},
   "source": [
    "### Kalibrr"
   ]
  },
  {
   "cell_type": "code",
   "execution_count": 148,
   "id": "195ac7cc",
   "metadata": {},
   "outputs": [
    {
     "data": {
      "text/plain": [
       "0                                              Other\n",
       "1      Paranaque City, National Capital Region (NCR)\n",
       "2         Makati City, National Capital Region (NCR)\n",
       "3    Mandaluyong City, National Capital Region (NCR)\n",
       "4          Pasig City, National Capital Region (NCR)\n",
       "5         Manila City, National Capital Region (NCR)\n",
       "6         Manila City, National Capital Region (NCR)\n",
       "7         Quezon City, National Capital Region (NCR)\n",
       "8      Paranaque City, National Capital Region (NCR)\n",
       "9    Mandaluyong City, National Capital Region (NCR)\n",
       "Name: location_standardized, dtype: object"
      ]
     },
     "execution_count": 148,
     "metadata": {},
     "output_type": "execute_result"
    }
   ],
   "source": [
    "kalibrr_df['location_standardized'] = kalibrr_df['location'].apply(lambda x: smart_location_match(x, keywords, df_locations))\n",
    "\n",
    "kalibrr_df['location_standardized'].head(10)"
   ]
  },
  {
   "cell_type": "code",
   "execution_count": 149,
   "id": "a1c881a5",
   "metadata": {},
   "outputs": [
    {
     "data": {
      "text/plain": [
       "location_standardized\n",
       "Manila City, National Capital Region (NCR)         9\n",
       "Quezon City, National Capital Region (NCR)         5\n",
       "Makati City, National Capital Region (NCR)         4\n",
       "Pasig City, National Capital Region (NCR)          4\n",
       "Paranaque City, National Capital Region (NCR)      3\n",
       "Mandaluyong City, National Capital Region (NCR)    3\n",
       "Other                                              1\n",
       "Taguig City, National Capital Region (NCR)         1\n",
       "Name: count, dtype: int64"
      ]
     },
     "execution_count": 149,
     "metadata": {},
     "output_type": "execute_result"
    }
   ],
   "source": [
    "kalibrr_df['location_standardized'].value_counts()"
   ]
  },
  {
   "cell_type": "markdown",
   "id": "5b3ee64f",
   "metadata": {},
   "source": [
    "### Jobstreet"
   ]
  },
  {
   "cell_type": "code",
   "execution_count": 150,
   "id": "32c22f75",
   "metadata": {},
   "outputs": [
    {
     "data": {
      "text/plain": [
       "0    Manila City, National Capital Region (NCR)\n",
       "1    Manila City, National Capital Region (NCR)\n",
       "2    Manila City, National Capital Region (NCR)\n",
       "3    Manila City, National Capital Region (NCR)\n",
       "4    Manila City, National Capital Region (NCR)\n",
       "5    Manila City, National Capital Region (NCR)\n",
       "6    Manila City, National Capital Region (NCR)\n",
       "7    Manila City, National Capital Region (NCR)\n",
       "8    Makati City, National Capital Region (NCR)\n",
       "9               Rizal, CALABARZON (Region IV-A)\n",
       "Name: location_standardized, dtype: object"
      ]
     },
     "execution_count": 150,
     "metadata": {},
     "output_type": "execute_result"
    }
   ],
   "source": [
    "jobstreet_df['location_standardized'] = jobstreet_df['location'].apply(lambda x: smart_location_match(x, keywords, df_locations))\n",
    "\n",
    "jobstreet_df['location_standardized'].head(10)"
   ]
  },
  {
   "cell_type": "code",
   "execution_count": 151,
   "id": "f03e4e88",
   "metadata": {},
   "outputs": [
    {
     "data": {
      "text/plain": [
       "location_standardized\n",
       "Manila City, National Capital Region (NCR)         24\n",
       "Makati City, National Capital Region (NCR)          2\n",
       "Mandaluyong City, National Capital Region (NCR)     2\n",
       "Rizal, CALABARZON (Region IV-A)                     1\n",
       "Laguna, CALABARZON (Region IV-A)                    1\n",
       "Name: count, dtype: int64"
      ]
     },
     "execution_count": 151,
     "metadata": {},
     "output_type": "execute_result"
    }
   ],
   "source": [
    "jobstreet_df['location_standardized'].value_counts()"
   ]
  },
  {
   "cell_type": "code",
   "execution_count": 152,
   "id": "6ea451ff",
   "metadata": {},
   "outputs": [],
   "source": [
    "linkedin_df_stand = linkedin_df.drop(['job_func','location'], axis=1)\n",
    "kalibrr_df_stand = kalibrr_df.drop(['job_func','location'], axis=1)\n",
    "# foundit_df_stand = foundit_df.drop(['job_func','location'], axis=1)\n",
    "foundit_df_stand = foundit_df.drop('location', axis=1)\n",
    "jobstreet_df_stand = jobstreet_df.drop(['job_func','job_func_clean','location'], axis=1)"
   ]
  },
  {
   "cell_type": "markdown",
   "id": "040ed949",
   "metadata": {},
   "source": [
    "## Standardizing Job Type"
   ]
  },
  {
   "cell_type": "code",
   "execution_count": 153,
   "id": "35a961d2",
   "metadata": {},
   "outputs": [
    {
     "data": {
      "text/html": [
       "<div>\n",
       "<style scoped>\n",
       "    .dataframe tbody tr th:only-of-type {\n",
       "        vertical-align: middle;\n",
       "    }\n",
       "\n",
       "    .dataframe tbody tr th {\n",
       "        vertical-align: top;\n",
       "    }\n",
       "\n",
       "    .dataframe thead th {\n",
       "        text-align: right;\n",
       "    }\n",
       "</style>\n",
       "<table border=\"1\" class=\"dataframe\">\n",
       "  <thead>\n",
       "    <tr style=\"text-align: right;\">\n",
       "      <th></th>\n",
       "      <th>Standardized</th>\n",
       "      <th>Linkedin</th>\n",
       "      <th>Foundit</th>\n",
       "      <th>Kalibrr</th>\n",
       "      <th>Jobstreet</th>\n",
       "    </tr>\n",
       "  </thead>\n",
       "  <tbody>\n",
       "    <tr>\n",
       "      <th>0</th>\n",
       "      <td>Full-time</td>\n",
       "      <td>Full-time</td>\n",
       "      <td>Permanent Job</td>\n",
       "      <td>Full time</td>\n",
       "      <td>Full time</td>\n",
       "    </tr>\n",
       "    <tr>\n",
       "      <th>1</th>\n",
       "      <td>Contract/Temporary</td>\n",
       "      <td>Contract</td>\n",
       "      <td>Contract Job</td>\n",
       "      <td>Contractual</td>\n",
       "      <td>Contract/Temp</td>\n",
       "    </tr>\n",
       "    <tr>\n",
       "      <th>2</th>\n",
       "      <td>Internship</td>\n",
       "      <td>Internship</td>\n",
       "      <td>NaN</td>\n",
       "      <td>NaN</td>\n",
       "      <td>NaN</td>\n",
       "    </tr>\n",
       "    <tr>\n",
       "      <th>3</th>\n",
       "      <td>Part-time</td>\n",
       "      <td>Part-time</td>\n",
       "      <td>NaN</td>\n",
       "      <td>Part time</td>\n",
       "      <td>Part time</td>\n",
       "    </tr>\n",
       "    <tr>\n",
       "      <th>4</th>\n",
       "      <td>Contract/Temporary</td>\n",
       "      <td>Temporary</td>\n",
       "      <td>NaN</td>\n",
       "      <td>Freelance</td>\n",
       "      <td>Casual/Vacation</td>\n",
       "    </tr>\n",
       "  </tbody>\n",
       "</table>\n",
       "</div>"
      ],
      "text/plain": [
       "         Standardized    Linkedin        Foundit      Kalibrr        Jobstreet\n",
       "0           Full-time   Full-time  Permanent Job    Full time        Full time\n",
       "1  Contract/Temporary    Contract   Contract Job  Contractual    Contract/Temp\n",
       "2          Internship  Internship            NaN          NaN              NaN\n",
       "3           Part-time   Part-time            NaN    Part time        Part time\n",
       "4  Contract/Temporary   Temporary            NaN    Freelance  Casual/Vacation"
      ]
     },
     "execution_count": 153,
     "metadata": {},
     "output_type": "execute_result"
    }
   ],
   "source": [
    "sheet_id = \"1FJgg2JWrKfzyWbi-76vKcR1dm-q6RwCAipobzotr_Eg\"\n",
    "sheet_name = \"Job_Type\"\n",
    "\n",
    "url= f\"https://docs.google.com/spreadsheets/d/{sheet_id}/gviz/tq?tqx=out:csv&sheet={sheet_name}\"\n",
    "\n",
    "df_job_type = pd.read_csv(url)\n",
    "\n",
    "df_job_type"
   ]
  },
  {
   "cell_type": "code",
   "execution_count": 154,
   "id": "9e6a7702",
   "metadata": {},
   "outputs": [],
   "source": [
    "def standardize_job_type(df, mapping_dict, source_col):\n",
    "    df['job_type_stand'] = df[source_col].apply(\n",
    "        lambda x: \", \".join(\n",
    "            mapping_dict.get(f.strip(), f.strip()) \n",
    "            for f in str(x).split(\",\") if f.strip()\n",
    "        )\n",
    "    )"
   ]
  },
  {
   "cell_type": "markdown",
   "id": "48c4c500",
   "metadata": {},
   "source": [
    "### Linkedin"
   ]
  },
  {
   "cell_type": "code",
   "execution_count": 155,
   "id": "e9e65ca7",
   "metadata": {},
   "outputs": [
    {
     "data": {
      "text/plain": [
       "emp_type\n",
       "Full-time    28\n",
       "Contract      1\n",
       "Name: count, dtype: int64"
      ]
     },
     "execution_count": 155,
     "metadata": {},
     "output_type": "execute_result"
    }
   ],
   "source": [
    "linkedin_df['emp_type'].value_counts()"
   ]
  },
  {
   "cell_type": "code",
   "execution_count": 156,
   "id": "c0eac780",
   "metadata": {},
   "outputs": [],
   "source": [
    "# Remove 'Other' -> job type is multi-select for this site so retain the other job type\n",
    "# 'Work From Home' and 'Jobs for Women' -> for foundit\n",
    "\n",
    "def clean_job_type(val):\n",
    "    job_types = [t.strip() for t in str(val).split(',')]\n",
    "    \n",
    "    remove = {'Other','Work From Home', 'Jobs for Women'}\n",
    "    \n",
    "    cleaned = [x for x in job_types if x not in remove]\n",
    "    \n",
    "    return \", \".join(cleaned) if cleaned else None\n",
    "\n",
    "linkedin_df['emp_type'] = linkedin_df['emp_type'].apply(clean_job_type)\n"
   ]
  },
  {
   "cell_type": "code",
   "execution_count": 157,
   "id": "374ac622",
   "metadata": {},
   "outputs": [
    {
     "data": {
      "text/plain": [
       "{'Full-time': 'Full-time',\n",
       " 'Contract': 'Contract/Temporary',\n",
       " 'Internship': 'Internship',\n",
       " 'Part-time': 'Part-time',\n",
       " 'Temporary': 'Contract/Temporary'}"
      ]
     },
     "execution_count": 157,
     "metadata": {},
     "output_type": "execute_result"
    }
   ],
   "source": [
    "linkedin_stand_type = dict(zip(\n",
    "    df_job_type.dropna(subset=['Linkedin', 'Standardized'])['Linkedin'],\n",
    "    df_job_type.dropna(subset=['Linkedin', 'Standardized'])['Standardized']\n",
    "))\n",
    "\n",
    "\n",
    "dict(list(linkedin_stand_type.items())[:5])"
   ]
  },
  {
   "cell_type": "code",
   "execution_count": 158,
   "id": "189103a0",
   "metadata": {},
   "outputs": [
    {
     "data": {
      "text/html": [
       "<div>\n",
       "<style scoped>\n",
       "    .dataframe tbody tr th:only-of-type {\n",
       "        vertical-align: middle;\n",
       "    }\n",
       "\n",
       "    .dataframe tbody tr th {\n",
       "        vertical-align: top;\n",
       "    }\n",
       "\n",
       "    .dataframe thead th {\n",
       "        text-align: right;\n",
       "    }\n",
       "</style>\n",
       "<table border=\"1\" class=\"dataframe\">\n",
       "  <thead>\n",
       "    <tr style=\"text-align: right;\">\n",
       "      <th></th>\n",
       "      <th>emp_type</th>\n",
       "      <th>job_type_stand</th>\n",
       "    </tr>\n",
       "  </thead>\n",
       "  <tbody>\n",
       "    <tr>\n",
       "      <th>0</th>\n",
       "      <td>Full-time</td>\n",
       "      <td>Full-time</td>\n",
       "    </tr>\n",
       "    <tr>\n",
       "      <th>1</th>\n",
       "      <td>Full-time</td>\n",
       "      <td>Full-time</td>\n",
       "    </tr>\n",
       "    <tr>\n",
       "      <th>2</th>\n",
       "      <td>Full-time</td>\n",
       "      <td>Full-time</td>\n",
       "    </tr>\n",
       "    <tr>\n",
       "      <th>3</th>\n",
       "      <td>Full-time</td>\n",
       "      <td>Full-time</td>\n",
       "    </tr>\n",
       "    <tr>\n",
       "      <th>4</th>\n",
       "      <td>Full-time</td>\n",
       "      <td>Full-time</td>\n",
       "    </tr>\n",
       "  </tbody>\n",
       "</table>\n",
       "</div>"
      ],
      "text/plain": [
       "    emp_type job_type_stand\n",
       "0  Full-time      Full-time\n",
       "1  Full-time      Full-time\n",
       "2  Full-time      Full-time\n",
       "3  Full-time      Full-time\n",
       "4  Full-time      Full-time"
      ]
     },
     "execution_count": 158,
     "metadata": {},
     "output_type": "execute_result"
    }
   ],
   "source": [
    "standardize_job_type(linkedin_df, linkedin_stand_type, 'emp_type')\n",
    "\n",
    "linkedin_df[['emp_type', 'job_type_stand']].head()"
   ]
  },
  {
   "cell_type": "code",
   "execution_count": 159,
   "id": "9bc50cd4",
   "metadata": {},
   "outputs": [
    {
     "data": {
      "text/plain": [
       "job_type_stand\n",
       "Full-time             28\n",
       "Contract/Temporary     1\n",
       "nan                    1\n",
       "Name: count, dtype: int64"
      ]
     },
     "execution_count": 159,
     "metadata": {},
     "output_type": "execute_result"
    }
   ],
   "source": [
    "linkedin_df['job_type_stand'].value_counts()"
   ]
  },
  {
   "cell_type": "markdown",
   "id": "66bfc115",
   "metadata": {},
   "source": [
    "### Foundit"
   ]
  },
  {
   "cell_type": "code",
   "execution_count": 160,
   "id": "fd68b029",
   "metadata": {},
   "outputs": [
    {
     "data": {
      "text/plain": [
       "emp_type\n",
       "Permanent Job    31\n",
       "Name: count, dtype: int64"
      ]
     },
     "execution_count": 160,
     "metadata": {},
     "output_type": "execute_result"
    }
   ],
   "source": [
    "foundit_df['emp_type'].value_counts()"
   ]
  },
  {
   "cell_type": "code",
   "execution_count": 161,
   "id": "6bb81256",
   "metadata": {},
   "outputs": [],
   "source": [
    "# Remove 'Work From Home' and 'Jobs for Women' -> job type is multi-select for this site so retain the other job type\n",
    "foundit_df['emp_type'] = foundit_df['emp_type'].apply(clean_job_type)\n"
   ]
  },
  {
   "cell_type": "code",
   "execution_count": 162,
   "id": "902a38b8",
   "metadata": {},
   "outputs": [],
   "source": [
    "# Internship and part-time job type are inferred from job title\n",
    "foundit_df.loc[foundit_df['title'].str.contains(r'\\bintern\\b|\\binternship\\b', case=False, na=False),'job_type_stand'] = 'Internship'\n",
    "foundit_df.loc[foundit_df['title'].str.contains(r'\\bpart-time\\b|\\bpart time\\b', case=False, na=False),'job_type_stand'] = 'Part-time'"
   ]
  },
  {
   "cell_type": "code",
   "execution_count": 163,
   "id": "8ee51052",
   "metadata": {},
   "outputs": [
    {
     "data": {
      "text/plain": [
       "emp_type       job_type_stand\n",
       "Permanent Job  Full-time         31\n",
       "Name: count, dtype: int64"
      ]
     },
     "execution_count": 163,
     "metadata": {},
     "output_type": "execute_result"
    }
   ],
   "source": [
    "foundit_stand_type = dict(zip(\n",
    "    df_job_type.dropna(subset=['Foundit', 'Standardized'])['Foundit'],\n",
    "    df_job_type.dropna(subset=['Foundit', 'Standardized'])['Standardized']\n",
    "))\n",
    "\n",
    "standardize_job_type(foundit_df, foundit_stand_type, 'emp_type')\n",
    "\n",
    "foundit_df[['emp_type', 'job_type_stand']].value_counts()"
   ]
  },
  {
   "cell_type": "code",
   "execution_count": 164,
   "id": "43f954d2",
   "metadata": {},
   "outputs": [
    {
     "data": {
      "text/plain": [
       "job_type_stand\n",
       "Full-time    31\n",
       "Name: count, dtype: int64"
      ]
     },
     "execution_count": 164,
     "metadata": {},
     "output_type": "execute_result"
    }
   ],
   "source": [
    "foundit_df['job_type_stand'].value_counts()"
   ]
  },
  {
   "cell_type": "markdown",
   "id": "3f8186bc",
   "metadata": {},
   "source": [
    "### Kalibrr"
   ]
  },
  {
   "cell_type": "code",
   "execution_count": 165,
   "id": "a26e1c89",
   "metadata": {},
   "outputs": [
    {
     "data": {
      "text/plain": [
       "emp_type\n",
       "Full time    29\n",
       "Freelance     1\n",
       "Name: count, dtype: int64"
      ]
     },
     "execution_count": 165,
     "metadata": {},
     "output_type": "execute_result"
    }
   ],
   "source": [
    "kalibrr_df['emp_type'].value_counts()"
   ]
  },
  {
   "cell_type": "code",
   "execution_count": 166,
   "id": "200d8363",
   "metadata": {},
   "outputs": [],
   "source": [
    "# Internship job type is inferred from job title\n",
    "kalibrr_df.loc[kalibrr_df['title'].str.contains(r'\\bintern\\b|\\binternship\\b', case=False, na=False),'job_type_stand'] = 'Internship'"
   ]
  },
  {
   "cell_type": "code",
   "execution_count": 167,
   "id": "28512882",
   "metadata": {},
   "outputs": [
    {
     "data": {
      "text/plain": [
       "emp_type   job_type_stand    \n",
       "Full time  Full-time             29\n",
       "Freelance  Contract/Temporary     1\n",
       "Name: count, dtype: int64"
      ]
     },
     "execution_count": 167,
     "metadata": {},
     "output_type": "execute_result"
    }
   ],
   "source": [
    "kalibrr_stand_type = dict(zip(\n",
    "    df_job_type.dropna(subset=['Kalibrr', 'Standardized'])['Kalibrr'],\n",
    "    df_job_type.dropna(subset=['Kalibrr', 'Standardized'])['Standardized']\n",
    "))\n",
    "\n",
    "standardize_job_type(kalibrr_df, kalibrr_stand_type, 'emp_type')\n",
    "\n",
    "kalibrr_df[['emp_type', 'job_type_stand']].value_counts()\n"
   ]
  },
  {
   "cell_type": "code",
   "execution_count": 168,
   "id": "0d86597a",
   "metadata": {},
   "outputs": [
    {
     "data": {
      "text/plain": [
       "job_type_stand\n",
       "Full-time             29\n",
       "Contract/Temporary     1\n",
       "Name: count, dtype: int64"
      ]
     },
     "execution_count": 168,
     "metadata": {},
     "output_type": "execute_result"
    }
   ],
   "source": [
    "kalibrr_df['job_type_stand'].value_counts()"
   ]
  },
  {
   "cell_type": "markdown",
   "id": "1977cfc0",
   "metadata": {},
   "source": [
    "### Jobstreet"
   ]
  },
  {
   "cell_type": "code",
   "execution_count": 169,
   "id": "adc74e66",
   "metadata": {},
   "outputs": [
    {
     "data": {
      "text/plain": [
       "emp_type\n",
       "Full time    30\n",
       "Name: count, dtype: int64"
      ]
     },
     "execution_count": 169,
     "metadata": {},
     "output_type": "execute_result"
    }
   ],
   "source": [
    "jobstreet_df['emp_type'].value_counts()"
   ]
  },
  {
   "cell_type": "code",
   "execution_count": 170,
   "id": "4818d8d7",
   "metadata": {},
   "outputs": [],
   "source": [
    "# Internship job type is inferred from job title\n",
    "jobstreet_df.loc[jobstreet_df['title'].str.contains(r'\\bintern\\b|\\binternship\\b', case=False, na=False),'job_type_stand'] = 'Internship'"
   ]
  },
  {
   "cell_type": "code",
   "execution_count": 171,
   "id": "29f0c81f",
   "metadata": {},
   "outputs": [
    {
     "data": {
      "text/plain": [
       "emp_type   job_type_stand\n",
       "Full time  Full-time         30\n",
       "Name: count, dtype: int64"
      ]
     },
     "execution_count": 171,
     "metadata": {},
     "output_type": "execute_result"
    }
   ],
   "source": [
    "jobstreet_stand_type = dict(zip(\n",
    "    df_job_type.dropna(subset=['Jobstreet', 'Standardized'])['Jobstreet'],\n",
    "    df_job_type.dropna(subset=['Jobstreet', 'Standardized'])['Standardized']\n",
    "))\n",
    "\n",
    "standardize_job_type(jobstreet_df, jobstreet_stand_type, 'emp_type')\n",
    "\n",
    "jobstreet_df[['emp_type', 'job_type_stand']].value_counts()\n"
   ]
  },
  {
   "cell_type": "code",
   "execution_count": 172,
   "id": "943608a4",
   "metadata": {},
   "outputs": [
    {
     "data": {
      "text/plain": [
       "job_type_stand\n",
       "Full-time    30\n",
       "Name: count, dtype: int64"
      ]
     },
     "execution_count": 172,
     "metadata": {},
     "output_type": "execute_result"
    }
   ],
   "source": [
    "jobstreet_df['job_type_stand'].value_counts()"
   ]
  },
  {
   "cell_type": "code",
   "execution_count": 173,
   "id": "0a5a8eba",
   "metadata": {},
   "outputs": [],
   "source": [
    "linkedin_df_stand = linkedin_df.drop(['job_func','location','emp_type'], axis=1)\n",
    "kalibrr_df_stand = kalibrr_df.drop(['job_func','location','emp_type'], axis=1)\n",
    "# foundit_df_stand = foundit_df.drop(['job_func','location'], axis=1)\n",
    "foundit_df_stand = foundit_df.drop(['location','emp_type'], axis=1)\n",
    "jobstreet_df_stand = jobstreet_df.drop(['job_func','job_func_clean','location','emp_type'], axis=1)"
   ]
  },
  {
   "cell_type": "markdown",
   "id": "d50b63e0",
   "metadata": {},
   "source": [
    "## Merging the Job Listings"
   ]
  },
  {
   "cell_type": "code",
   "execution_count": 174,
   "id": "8ee184c3",
   "metadata": {},
   "outputs": [
    {
     "data": {
      "text/plain": [
       "Index(['title', 'link', 'company', 'job_desc', 'posted', 'job_func_stand',\n",
       "       'location_standardized', 'job_type_stand'],\n",
       "      dtype='object')"
      ]
     },
     "execution_count": 174,
     "metadata": {},
     "output_type": "execute_result"
    }
   ],
   "source": [
    "linkedin_df_stand.columns"
   ]
  },
  {
   "cell_type": "code",
   "execution_count": 175,
   "id": "a2c0fdab",
   "metadata": {},
   "outputs": [
    {
     "data": {
      "text/plain": [
       "Index(['title', 'link', 'company', 'posted', 'job_desc', 'job_func_stand',\n",
       "       'location_standardized', 'job_type_stand'],\n",
       "      dtype='object')"
      ]
     },
     "execution_count": 175,
     "metadata": {},
     "output_type": "execute_result"
    }
   ],
   "source": [
    "kalibrr_df_stand.columns"
   ]
  },
  {
   "cell_type": "code",
   "execution_count": 176,
   "id": "60a2b3f1",
   "metadata": {},
   "outputs": [
    {
     "data": {
      "text/plain": [
       "Index(['title', 'company', 'link', 'posted', 'job_func', 'job_desc',\n",
       "       'location_standardized', 'job_type_stand'],\n",
       "      dtype='object')"
      ]
     },
     "execution_count": 176,
     "metadata": {},
     "output_type": "execute_result"
    }
   ],
   "source": [
    "foundit_df_stand.columns"
   ]
  },
  {
   "cell_type": "code",
   "execution_count": 177,
   "id": "4e4c8b13",
   "metadata": {},
   "outputs": [
    {
     "data": {
      "text/plain": [
       "Index(['title', 'link', 'company', 'posted', 'job_desc', 'job_func_stand',\n",
       "       'location_standardized', 'job_type_stand'],\n",
       "      dtype='object')"
      ]
     },
     "execution_count": 177,
     "metadata": {},
     "output_type": "execute_result"
    }
   ],
   "source": [
    "jobstreet_df_stand.columns"
   ]
  },
  {
   "cell_type": "code",
   "execution_count": 178,
   "id": "c95c6b8e",
   "metadata": {},
   "outputs": [
    {
     "data": {
      "text/html": [
       "<div>\n",
       "<style scoped>\n",
       "    .dataframe tbody tr th:only-of-type {\n",
       "        vertical-align: middle;\n",
       "    }\n",
       "\n",
       "    .dataframe tbody tr th {\n",
       "        vertical-align: top;\n",
       "    }\n",
       "\n",
       "    .dataframe thead th {\n",
       "        text-align: right;\n",
       "    }\n",
       "</style>\n",
       "<table border=\"1\" class=\"dataframe\">\n",
       "  <thead>\n",
       "    <tr style=\"text-align: right;\">\n",
       "      <th></th>\n",
       "      <th>title</th>\n",
       "      <th>company</th>\n",
       "      <th>link</th>\n",
       "      <th>job_desc</th>\n",
       "      <th>job_func_stand</th>\n",
       "      <th>location_standardized</th>\n",
       "      <th>job_type_stand</th>\n",
       "      <th>source</th>\n",
       "    </tr>\n",
       "  </thead>\n",
       "  <tbody>\n",
       "    <tr>\n",
       "      <th>0</th>\n",
       "      <td>Junior Web Developer</td>\n",
       "      <td>INQUIRER.net</td>\n",
       "      <td>https://ph.linkedin.com/jobs/view/junior-web-d...</td>\n",
       "      <td>\\n          &lt;strong&gt;Key Responsibilities&lt;br&gt;&lt;b...</td>\n",
       "      <td>Engineering, Information Technology</td>\n",
       "      <td>Manila City, National Capital Region (NCR)</td>\n",
       "      <td>Full-time</td>\n",
       "      <td>Linkedin</td>\n",
       "    </tr>\n",
       "    <tr>\n",
       "      <th>1</th>\n",
       "      <td>Junior Python Developer</td>\n",
       "      <td>ShipERP</td>\n",
       "      <td>https://ph.linkedin.com/jobs/view/junior-pytho...</td>\n",
       "      <td>\\n          &lt;strong&gt;Position Overview&lt;br&gt;&lt;br&gt;&lt;...</td>\n",
       "      <td>Engineering, Information Technology</td>\n",
       "      <td>Philippines</td>\n",
       "      <td>Full-time</td>\n",
       "      <td>Linkedin</td>\n",
       "    </tr>\n",
       "    <tr>\n",
       "      <th>2</th>\n",
       "      <td>Python Developer</td>\n",
       "      <td>Theoria Medical</td>\n",
       "      <td>https://ph.linkedin.com/jobs/view/python-devel...</td>\n",
       "      <td>\\n          &lt;p&gt;&lt;strong&gt;Position Type&lt;/strong&gt;:...</td>\n",
       "      <td>Engineering, Information Technology</td>\n",
       "      <td>Manila City, National Capital Region (NCR)</td>\n",
       "      <td>Full-time</td>\n",
       "      <td>Linkedin</td>\n",
       "    </tr>\n",
       "    <tr>\n",
       "      <th>3</th>\n",
       "      <td>Junior Back End Developer</td>\n",
       "      <td>Media Meter Inc.</td>\n",
       "      <td>https://ph.linkedin.com/jobs/view/junior-back-...</td>\n",
       "      <td>\\n          &lt;strong&gt;Is this role right for you...</td>\n",
       "      <td>Engineering, Information Technology</td>\n",
       "      <td>Quezon City, National Capital Region (NCR)</td>\n",
       "      <td>Full-time</td>\n",
       "      <td>Linkedin</td>\n",
       "    </tr>\n",
       "    <tr>\n",
       "      <th>4</th>\n",
       "      <td>Python Developer</td>\n",
       "      <td>Theoria Medical</td>\n",
       "      <td>https://ph.linkedin.com/jobs/view/python-devel...</td>\n",
       "      <td>\\n          &lt;p&gt;&lt;strong&gt;Position Type&lt;/strong&gt;:...</td>\n",
       "      <td>Engineering, Information Technology</td>\n",
       "      <td>Manila City, National Capital Region (NCR)</td>\n",
       "      <td>Full-time</td>\n",
       "      <td>Linkedin</td>\n",
       "    </tr>\n",
       "    <tr>\n",
       "      <th>...</th>\n",
       "      <td>...</td>\n",
       "      <td>...</td>\n",
       "      <td>...</td>\n",
       "      <td>...</td>\n",
       "      <td>...</td>\n",
       "      <td>...</td>\n",
       "      <td>...</td>\n",
       "      <td>...</td>\n",
       "    </tr>\n",
       "    <tr>\n",
       "      <th>116</th>\n",
       "      <td>R0005686: Fullstack Development Engineer</td>\n",
       "      <td>TREND MICRO INCORPORATED-PHILIPPINE BRANCH</td>\n",
       "      <td>https://ph.jobstreet.com/job/82482187?type=sta...</td>\n",
       "      <td>&lt;p&gt;&lt;strong&gt;Overview&lt;/strong&gt;&lt;/p&gt;&lt;p&gt;&amp;nbsp;&lt;/p&gt;&lt;...</td>\n",
       "      <td>Information Technology</td>\n",
       "      <td>Manila City, National Capital Region (NCR)</td>\n",
       "      <td>Full-time</td>\n",
       "      <td>Jobstreet</td>\n",
       "    </tr>\n",
       "    <tr>\n",
       "      <th>117</th>\n",
       "      <td>Data Analyst - Python</td>\n",
       "      <td>Aeon Credit Service Systems (Philippines) Inc.</td>\n",
       "      <td>https://ph.jobstreet.com/job/82535741?type=sta...</td>\n",
       "      <td>&lt;p&gt;&lt;strong&gt;Job Brief:&lt;/strong&gt;&lt;/p&gt;&lt;p&gt;We are lo...</td>\n",
       "      <td>Sciences</td>\n",
       "      <td>Mandaluyong City, National Capital Region (NCR)</td>\n",
       "      <td>Full-time</td>\n",
       "      <td>Jobstreet</td>\n",
       "    </tr>\n",
       "    <tr>\n",
       "      <th>118</th>\n",
       "      <td>Big Data Engineer</td>\n",
       "      <td>FIRSTMAC OPERATIONS CENTER PTY LTD-PHILIPPINE ...</td>\n",
       "      <td>https://ph.jobstreet.com/job/82683949?type=sta...</td>\n",
       "      <td>&lt;p&gt;&lt;strong&gt;POSITION PURPOSE: &lt;/strong&gt;The big ...</td>\n",
       "      <td>Information Technology</td>\n",
       "      <td>Manila City, National Capital Region (NCR)</td>\n",
       "      <td>Full-time</td>\n",
       "      <td>Jobstreet</td>\n",
       "    </tr>\n",
       "    <tr>\n",
       "      <th>119</th>\n",
       "      <td>Data Engineer</td>\n",
       "      <td>EY GLOBAL DELIVERY SERVICES (GDS) PHILIPPINES</td>\n",
       "      <td>https://ph.jobstreet.com/job/83097417?type=sta...</td>\n",
       "      <td>&lt;p&gt;&lt;strong&gt;The opportunity&lt;/strong&gt;&lt;/p&gt;&lt;p&gt;We’r...</td>\n",
       "      <td>Information Technology</td>\n",
       "      <td>Manila City, National Capital Region (NCR)</td>\n",
       "      <td>Full-time</td>\n",
       "      <td>Jobstreet</td>\n",
       "    </tr>\n",
       "    <tr>\n",
       "      <th>120</th>\n",
       "      <td>Backend Developer</td>\n",
       "      <td>RBOX INTERNATIONAL SOLUTIONS INC.</td>\n",
       "      <td>https://ph.jobstreet.com/job/82492073?type=sta...</td>\n",
       "      <td>&lt;p&gt;This position is a night shift position wit...</td>\n",
       "      <td>Information Technology</td>\n",
       "      <td>Manila City, National Capital Region (NCR)</td>\n",
       "      <td>Full-time</td>\n",
       "      <td>Jobstreet</td>\n",
       "    </tr>\n",
       "  </tbody>\n",
       "</table>\n",
       "<p>121 rows × 8 columns</p>\n",
       "</div>"
      ],
      "text/plain": [
       "                                        title  \\\n",
       "0                        Junior Web Developer   \n",
       "1                     Junior Python Developer   \n",
       "2                            Python Developer   \n",
       "3                   Junior Back End Developer   \n",
       "4                            Python Developer   \n",
       "..                                        ...   \n",
       "116  R0005686: Fullstack Development Engineer   \n",
       "117                     Data Analyst - Python   \n",
       "118                         Big Data Engineer   \n",
       "119                             Data Engineer   \n",
       "120                         Backend Developer   \n",
       "\n",
       "                                               company  \\\n",
       "0                                         INQUIRER.net   \n",
       "1                                              ShipERP   \n",
       "2                                      Theoria Medical   \n",
       "3                                     Media Meter Inc.   \n",
       "4                                      Theoria Medical   \n",
       "..                                                 ...   \n",
       "116         TREND MICRO INCORPORATED-PHILIPPINE BRANCH   \n",
       "117     Aeon Credit Service Systems (Philippines) Inc.   \n",
       "118  FIRSTMAC OPERATIONS CENTER PTY LTD-PHILIPPINE ...   \n",
       "119      EY GLOBAL DELIVERY SERVICES (GDS) PHILIPPINES   \n",
       "120                  RBOX INTERNATIONAL SOLUTIONS INC.   \n",
       "\n",
       "                                                  link  \\\n",
       "0    https://ph.linkedin.com/jobs/view/junior-web-d...   \n",
       "1    https://ph.linkedin.com/jobs/view/junior-pytho...   \n",
       "2    https://ph.linkedin.com/jobs/view/python-devel...   \n",
       "3    https://ph.linkedin.com/jobs/view/junior-back-...   \n",
       "4    https://ph.linkedin.com/jobs/view/python-devel...   \n",
       "..                                                 ...   \n",
       "116  https://ph.jobstreet.com/job/82482187?type=sta...   \n",
       "117  https://ph.jobstreet.com/job/82535741?type=sta...   \n",
       "118  https://ph.jobstreet.com/job/82683949?type=sta...   \n",
       "119  https://ph.jobstreet.com/job/83097417?type=sta...   \n",
       "120  https://ph.jobstreet.com/job/82492073?type=sta...   \n",
       "\n",
       "                                              job_desc  \\\n",
       "0    \\n          <strong>Key Responsibilities<br><b...   \n",
       "1    \\n          <strong>Position Overview<br><br><...   \n",
       "2    \\n          <p><strong>Position Type</strong>:...   \n",
       "3    \\n          <strong>Is this role right for you...   \n",
       "4    \\n          <p><strong>Position Type</strong>:...   \n",
       "..                                                 ...   \n",
       "116  <p><strong>Overview</strong></p><p>&nbsp;</p><...   \n",
       "117  <p><strong>Job Brief:</strong></p><p>We are lo...   \n",
       "118  <p><strong>POSITION PURPOSE: </strong>The big ...   \n",
       "119  <p><strong>The opportunity</strong></p><p>We’r...   \n",
       "120  <p>This position is a night shift position wit...   \n",
       "\n",
       "                          job_func_stand  \\\n",
       "0    Engineering, Information Technology   \n",
       "1    Engineering, Information Technology   \n",
       "2    Engineering, Information Technology   \n",
       "3    Engineering, Information Technology   \n",
       "4    Engineering, Information Technology   \n",
       "..                                   ...   \n",
       "116               Information Technology   \n",
       "117                             Sciences   \n",
       "118               Information Technology   \n",
       "119               Information Technology   \n",
       "120               Information Technology   \n",
       "\n",
       "                               location_standardized job_type_stand     source  \n",
       "0         Manila City, National Capital Region (NCR)      Full-time   Linkedin  \n",
       "1                                        Philippines      Full-time   Linkedin  \n",
       "2         Manila City, National Capital Region (NCR)      Full-time   Linkedin  \n",
       "3         Quezon City, National Capital Region (NCR)      Full-time   Linkedin  \n",
       "4         Manila City, National Capital Region (NCR)      Full-time   Linkedin  \n",
       "..                                               ...            ...        ...  \n",
       "116       Manila City, National Capital Region (NCR)      Full-time  Jobstreet  \n",
       "117  Mandaluyong City, National Capital Region (NCR)      Full-time  Jobstreet  \n",
       "118       Manila City, National Capital Region (NCR)      Full-time  Jobstreet  \n",
       "119       Manila City, National Capital Region (NCR)      Full-time  Jobstreet  \n",
       "120       Manila City, National Capital Region (NCR)      Full-time  Jobstreet  \n",
       "\n",
       "[121 rows x 8 columns]"
      ]
     },
     "execution_count": 178,
     "metadata": {},
     "output_type": "execute_result"
    }
   ],
   "source": [
    "# merge the four dataframes\n",
    "\n",
    "columns = ['title', 'company', 'link', 'job_desc','job_func_stand', 'location_standardized', 'job_type_stand']\n",
    "\n",
    "linkedin_df_stand['source'] = 'Linkedin'\n",
    "kalibrr_df_stand['source'] = 'Kalibrr'\n",
    "foundit_df_stand['source'] = 'Foundit'\n",
    "jobstreet_df_stand['source'] = 'Jobstreet'\n",
    "\n",
    "for df in [linkedin_df_stand, kalibrr_df_stand, foundit_df_stand, jobstreet_df_stand]:\n",
    "    for col in columns:\n",
    "        if col not in df.columns:\n",
    "            df[col] = np.nan\n",
    "\n",
    "\n",
    "job_listings = pd.concat([\n",
    "    linkedin_df_stand[columns + ['source']],\n",
    "    kalibrr_df_stand[columns + ['source']],\n",
    "    foundit_df_stand[columns + ['source']],\n",
    "    jobstreet_df_stand[columns + ['source']]\n",
    "], ignore_index=True)\n",
    "\n",
    "job_listings"
   ]
  },
  {
   "cell_type": "markdown",
   "id": "2302543a",
   "metadata": {},
   "source": [
    "## Dropping Duplicates"
   ]
  },
  {
   "cell_type": "code",
   "execution_count": 179,
   "id": "aa428f45",
   "metadata": {},
   "outputs": [
    {
     "data": {
      "text/html": [
       "<div>\n",
       "<style scoped>\n",
       "    .dataframe tbody tr th:only-of-type {\n",
       "        vertical-align: middle;\n",
       "    }\n",
       "\n",
       "    .dataframe tbody tr th {\n",
       "        vertical-align: top;\n",
       "    }\n",
       "\n",
       "    .dataframe thead th {\n",
       "        text-align: right;\n",
       "    }\n",
       "</style>\n",
       "<table border=\"1\" class=\"dataframe\">\n",
       "  <thead>\n",
       "    <tr style=\"text-align: right;\">\n",
       "      <th></th>\n",
       "      <th>title</th>\n",
       "      <th>company</th>\n",
       "      <th>source</th>\n",
       "      <th>count</th>\n",
       "    </tr>\n",
       "  </thead>\n",
       "  <tbody>\n",
       "    <tr>\n",
       "      <th>9</th>\n",
       "      <td>Python Developer</td>\n",
       "      <td>Theoria Medical</td>\n",
       "      <td>Linkedin</td>\n",
       "      <td>15</td>\n",
       "    </tr>\n",
       "    <tr>\n",
       "      <th>0</th>\n",
       "      <td>Full Stack Developer (React/Node/Python) - Nig...</td>\n",
       "      <td>MicroSourcing</td>\n",
       "      <td>Foundit</td>\n",
       "      <td>2</td>\n",
       "    </tr>\n",
       "    <tr>\n",
       "      <th>3</th>\n",
       "      <td>Full-Stack Developer (Python/Django &amp;amp; React)</td>\n",
       "      <td>One Outsource</td>\n",
       "      <td>Foundit</td>\n",
       "      <td>2</td>\n",
       "    </tr>\n",
       "    <tr>\n",
       "      <th>10</th>\n",
       "      <td>Python Developer with Data Engineering experie...</td>\n",
       "      <td>ERNI</td>\n",
       "      <td>Linkedin</td>\n",
       "      <td>2</td>\n",
       "    </tr>\n",
       "    <tr>\n",
       "      <th>11</th>\n",
       "      <td>Software Developer (Python)</td>\n",
       "      <td>Risewave Consulting, Inc.</td>\n",
       "      <td>Foundit</td>\n",
       "      <td>2</td>\n",
       "    </tr>\n",
       "    <tr>\n",
       "      <th>1</th>\n",
       "      <td>Full Stack Python Developer</td>\n",
       "      <td>Tahche Careers</td>\n",
       "      <td>Foundit</td>\n",
       "      <td>1</td>\n",
       "    </tr>\n",
       "    <tr>\n",
       "      <th>2</th>\n",
       "      <td>Full Stack Python Developer</td>\n",
       "      <td>Tahche Careers</td>\n",
       "      <td>Linkedin</td>\n",
       "      <td>1</td>\n",
       "    </tr>\n",
       "    <tr>\n",
       "      <th>4</th>\n",
       "      <td>Junior Python Developer</td>\n",
       "      <td>ShipERP</td>\n",
       "      <td>Foundit</td>\n",
       "      <td>1</td>\n",
       "    </tr>\n",
       "    <tr>\n",
       "      <th>5</th>\n",
       "      <td>Junior Python Developer</td>\n",
       "      <td>ShipERP</td>\n",
       "      <td>Linkedin</td>\n",
       "      <td>1</td>\n",
       "    </tr>\n",
       "    <tr>\n",
       "      <th>6</th>\n",
       "      <td>Python Developer</td>\n",
       "      <td>Genzeon</td>\n",
       "      <td>Foundit</td>\n",
       "      <td>1</td>\n",
       "    </tr>\n",
       "    <tr>\n",
       "      <th>7</th>\n",
       "      <td>Python Developer</td>\n",
       "      <td>Genzeon</td>\n",
       "      <td>Linkedin</td>\n",
       "      <td>1</td>\n",
       "    </tr>\n",
       "    <tr>\n",
       "      <th>8</th>\n",
       "      <td>Python Developer</td>\n",
       "      <td>Theoria Medical</td>\n",
       "      <td>Foundit</td>\n",
       "      <td>1</td>\n",
       "    </tr>\n",
       "  </tbody>\n",
       "</table>\n",
       "</div>"
      ],
      "text/plain": [
       "                                                title  \\\n",
       "9                                    Python Developer   \n",
       "0   Full Stack Developer (React/Node/Python) - Nig...   \n",
       "3    Full-Stack Developer (Python/Django &amp; React)   \n",
       "10  Python Developer with Data Engineering experie...   \n",
       "11                        Software Developer (Python)   \n",
       "1                         Full Stack Python Developer   \n",
       "2                         Full Stack Python Developer   \n",
       "4                             Junior Python Developer   \n",
       "5                             Junior Python Developer   \n",
       "6                                    Python Developer   \n",
       "7                                    Python Developer   \n",
       "8                                    Python Developer   \n",
       "\n",
       "                      company    source  count  \n",
       "9             Theoria Medical  Linkedin     15  \n",
       "0               MicroSourcing   Foundit      2  \n",
       "3               One Outsource   Foundit      2  \n",
       "10                       ERNI  Linkedin      2  \n",
       "11  Risewave Consulting, Inc.   Foundit      2  \n",
       "1              Tahche Careers   Foundit      1  \n",
       "2              Tahche Careers  Linkedin      1  \n",
       "4                     ShipERP   Foundit      1  \n",
       "5                     ShipERP  Linkedin      1  \n",
       "6                     Genzeon   Foundit      1  \n",
       "7                     Genzeon  Linkedin      1  \n",
       "8             Theoria Medical   Foundit      1  "
      ]
     },
     "execution_count": 179,
     "metadata": {},
     "output_type": "execute_result"
    }
   ],
   "source": [
    "duplicates = job_listings[job_listings.duplicated(subset=['title', 'company'], keep=False)]\n",
    "duplicates = duplicates.groupby(['title', 'company','source']).size().reset_index(name='count')\n",
    "duplicates = duplicates.sort_values(by='count', ascending=False)\n",
    "duplicates"
   ]
  },
  {
   "cell_type": "code",
   "execution_count": 180,
   "id": "54704948",
   "metadata": {},
   "outputs": [
    {
     "data": {
      "text/html": [
       "<div>\n",
       "<style scoped>\n",
       "    .dataframe tbody tr th:only-of-type {\n",
       "        vertical-align: middle;\n",
       "    }\n",
       "\n",
       "    .dataframe tbody tr th {\n",
       "        vertical-align: top;\n",
       "    }\n",
       "\n",
       "    .dataframe thead th {\n",
       "        text-align: right;\n",
       "    }\n",
       "</style>\n",
       "<table border=\"1\" class=\"dataframe\">\n",
       "  <thead>\n",
       "    <tr style=\"text-align: right;\">\n",
       "      <th></th>\n",
       "      <th>title</th>\n",
       "      <th>company</th>\n",
       "      <th>link</th>\n",
       "      <th>job_desc</th>\n",
       "      <th>job_func_stand</th>\n",
       "      <th>location_standardized</th>\n",
       "      <th>job_type_stand</th>\n",
       "      <th>source</th>\n",
       "    </tr>\n",
       "  </thead>\n",
       "  <tbody>\n",
       "    <tr>\n",
       "      <th>0</th>\n",
       "      <td>Junior Web Developer</td>\n",
       "      <td>INQUIRER.net</td>\n",
       "      <td>https://ph.linkedin.com/jobs/view/junior-web-d...</td>\n",
       "      <td>\\n          &lt;strong&gt;Key Responsibilities&lt;br&gt;&lt;b...</td>\n",
       "      <td>Engineering, Information Technology</td>\n",
       "      <td>Manila City, National Capital Region (NCR)</td>\n",
       "      <td>Full-time</td>\n",
       "      <td>Linkedin</td>\n",
       "    </tr>\n",
       "    <tr>\n",
       "      <th>1</th>\n",
       "      <td>Junior Python Developer</td>\n",
       "      <td>ShipERP</td>\n",
       "      <td>https://ph.linkedin.com/jobs/view/junior-pytho...</td>\n",
       "      <td>\\n          &lt;strong&gt;Position Overview&lt;br&gt;&lt;br&gt;&lt;...</td>\n",
       "      <td>Engineering, Information Technology</td>\n",
       "      <td>Philippines</td>\n",
       "      <td>Full-time</td>\n",
       "      <td>Linkedin</td>\n",
       "    </tr>\n",
       "    <tr>\n",
       "      <th>2</th>\n",
       "      <td>Python Developer</td>\n",
       "      <td>Theoria Medical</td>\n",
       "      <td>https://ph.linkedin.com/jobs/view/python-devel...</td>\n",
       "      <td>\\n          &lt;p&gt;&lt;strong&gt;Position Type&lt;/strong&gt;:...</td>\n",
       "      <td>Engineering, Information Technology</td>\n",
       "      <td>Manila City, National Capital Region (NCR)</td>\n",
       "      <td>Full-time</td>\n",
       "      <td>Linkedin</td>\n",
       "    </tr>\n",
       "    <tr>\n",
       "      <th>3</th>\n",
       "      <td>Junior Back End Developer</td>\n",
       "      <td>Media Meter Inc.</td>\n",
       "      <td>https://ph.linkedin.com/jobs/view/junior-back-...</td>\n",
       "      <td>\\n          &lt;strong&gt;Is this role right for you...</td>\n",
       "      <td>Engineering, Information Technology</td>\n",
       "      <td>Quezon City, National Capital Region (NCR)</td>\n",
       "      <td>Full-time</td>\n",
       "      <td>Linkedin</td>\n",
       "    </tr>\n",
       "    <tr>\n",
       "      <th>10</th>\n",
       "      <td>Python Engineer</td>\n",
       "      <td>CI&amp;amp;T</td>\n",
       "      <td>https://ph.linkedin.com/jobs/view/python-engin...</td>\n",
       "      <td>\\n          &lt;p&gt;&lt;span&gt;We are &lt;strong&gt;tech trans...</td>\n",
       "      <td>Engineering, Information Technology</td>\n",
       "      <td>National Capital Region (NCR)</td>\n",
       "      <td>Full-time</td>\n",
       "      <td>Linkedin</td>\n",
       "    </tr>\n",
       "    <tr>\n",
       "      <th>...</th>\n",
       "      <td>...</td>\n",
       "      <td>...</td>\n",
       "      <td>...</td>\n",
       "      <td>...</td>\n",
       "      <td>...</td>\n",
       "      <td>...</td>\n",
       "      <td>...</td>\n",
       "      <td>...</td>\n",
       "    </tr>\n",
       "    <tr>\n",
       "      <th>116</th>\n",
       "      <td>R0005686: Fullstack Development Engineer</td>\n",
       "      <td>TREND MICRO INCORPORATED-PHILIPPINE BRANCH</td>\n",
       "      <td>https://ph.jobstreet.com/job/82482187?type=sta...</td>\n",
       "      <td>&lt;p&gt;&lt;strong&gt;Overview&lt;/strong&gt;&lt;/p&gt;&lt;p&gt;&amp;nbsp;&lt;/p&gt;&lt;...</td>\n",
       "      <td>Information Technology</td>\n",
       "      <td>Manila City, National Capital Region (NCR)</td>\n",
       "      <td>Full-time</td>\n",
       "      <td>Jobstreet</td>\n",
       "    </tr>\n",
       "    <tr>\n",
       "      <th>117</th>\n",
       "      <td>Data Analyst - Python</td>\n",
       "      <td>Aeon Credit Service Systems (Philippines) Inc.</td>\n",
       "      <td>https://ph.jobstreet.com/job/82535741?type=sta...</td>\n",
       "      <td>&lt;p&gt;&lt;strong&gt;Job Brief:&lt;/strong&gt;&lt;/p&gt;&lt;p&gt;We are lo...</td>\n",
       "      <td>Sciences</td>\n",
       "      <td>Mandaluyong City, National Capital Region (NCR)</td>\n",
       "      <td>Full-time</td>\n",
       "      <td>Jobstreet</td>\n",
       "    </tr>\n",
       "    <tr>\n",
       "      <th>118</th>\n",
       "      <td>Big Data Engineer</td>\n",
       "      <td>FIRSTMAC OPERATIONS CENTER PTY LTD-PHILIPPINE ...</td>\n",
       "      <td>https://ph.jobstreet.com/job/82683949?type=sta...</td>\n",
       "      <td>&lt;p&gt;&lt;strong&gt;POSITION PURPOSE: &lt;/strong&gt;The big ...</td>\n",
       "      <td>Information Technology</td>\n",
       "      <td>Manila City, National Capital Region (NCR)</td>\n",
       "      <td>Full-time</td>\n",
       "      <td>Jobstreet</td>\n",
       "    </tr>\n",
       "    <tr>\n",
       "      <th>119</th>\n",
       "      <td>Data Engineer</td>\n",
       "      <td>EY GLOBAL DELIVERY SERVICES (GDS) PHILIPPINES</td>\n",
       "      <td>https://ph.jobstreet.com/job/83097417?type=sta...</td>\n",
       "      <td>&lt;p&gt;&lt;strong&gt;The opportunity&lt;/strong&gt;&lt;/p&gt;&lt;p&gt;We’r...</td>\n",
       "      <td>Information Technology</td>\n",
       "      <td>Manila City, National Capital Region (NCR)</td>\n",
       "      <td>Full-time</td>\n",
       "      <td>Jobstreet</td>\n",
       "    </tr>\n",
       "    <tr>\n",
       "      <th>120</th>\n",
       "      <td>Backend Developer</td>\n",
       "      <td>RBOX INTERNATIONAL SOLUTIONS INC.</td>\n",
       "      <td>https://ph.jobstreet.com/job/82492073?type=sta...</td>\n",
       "      <td>&lt;p&gt;This position is a night shift position wit...</td>\n",
       "      <td>Information Technology</td>\n",
       "      <td>Manila City, National Capital Region (NCR)</td>\n",
       "      <td>Full-time</td>\n",
       "      <td>Jobstreet</td>\n",
       "    </tr>\n",
       "  </tbody>\n",
       "</table>\n",
       "<p>99 rows × 8 columns</p>\n",
       "</div>"
      ],
      "text/plain": [
       "                                        title  \\\n",
       "0                        Junior Web Developer   \n",
       "1                     Junior Python Developer   \n",
       "2                            Python Developer   \n",
       "3                   Junior Back End Developer   \n",
       "10                            Python Engineer   \n",
       "..                                        ...   \n",
       "116  R0005686: Fullstack Development Engineer   \n",
       "117                     Data Analyst - Python   \n",
       "118                         Big Data Engineer   \n",
       "119                             Data Engineer   \n",
       "120                         Backend Developer   \n",
       "\n",
       "                                               company  \\\n",
       "0                                         INQUIRER.net   \n",
       "1                                              ShipERP   \n",
       "2                                      Theoria Medical   \n",
       "3                                     Media Meter Inc.   \n",
       "10                                            CI&amp;T   \n",
       "..                                                 ...   \n",
       "116         TREND MICRO INCORPORATED-PHILIPPINE BRANCH   \n",
       "117     Aeon Credit Service Systems (Philippines) Inc.   \n",
       "118  FIRSTMAC OPERATIONS CENTER PTY LTD-PHILIPPINE ...   \n",
       "119      EY GLOBAL DELIVERY SERVICES (GDS) PHILIPPINES   \n",
       "120                  RBOX INTERNATIONAL SOLUTIONS INC.   \n",
       "\n",
       "                                                  link  \\\n",
       "0    https://ph.linkedin.com/jobs/view/junior-web-d...   \n",
       "1    https://ph.linkedin.com/jobs/view/junior-pytho...   \n",
       "2    https://ph.linkedin.com/jobs/view/python-devel...   \n",
       "3    https://ph.linkedin.com/jobs/view/junior-back-...   \n",
       "10   https://ph.linkedin.com/jobs/view/python-engin...   \n",
       "..                                                 ...   \n",
       "116  https://ph.jobstreet.com/job/82482187?type=sta...   \n",
       "117  https://ph.jobstreet.com/job/82535741?type=sta...   \n",
       "118  https://ph.jobstreet.com/job/82683949?type=sta...   \n",
       "119  https://ph.jobstreet.com/job/83097417?type=sta...   \n",
       "120  https://ph.jobstreet.com/job/82492073?type=sta...   \n",
       "\n",
       "                                              job_desc  \\\n",
       "0    \\n          <strong>Key Responsibilities<br><b...   \n",
       "1    \\n          <strong>Position Overview<br><br><...   \n",
       "2    \\n          <p><strong>Position Type</strong>:...   \n",
       "3    \\n          <strong>Is this role right for you...   \n",
       "10   \\n          <p><span>We are <strong>tech trans...   \n",
       "..                                                 ...   \n",
       "116  <p><strong>Overview</strong></p><p>&nbsp;</p><...   \n",
       "117  <p><strong>Job Brief:</strong></p><p>We are lo...   \n",
       "118  <p><strong>POSITION PURPOSE: </strong>The big ...   \n",
       "119  <p><strong>The opportunity</strong></p><p>We’r...   \n",
       "120  <p>This position is a night shift position wit...   \n",
       "\n",
       "                          job_func_stand  \\\n",
       "0    Engineering, Information Technology   \n",
       "1    Engineering, Information Technology   \n",
       "2    Engineering, Information Technology   \n",
       "3    Engineering, Information Technology   \n",
       "10   Engineering, Information Technology   \n",
       "..                                   ...   \n",
       "116               Information Technology   \n",
       "117                             Sciences   \n",
       "118               Information Technology   \n",
       "119               Information Technology   \n",
       "120               Information Technology   \n",
       "\n",
       "                               location_standardized job_type_stand     source  \n",
       "0         Manila City, National Capital Region (NCR)      Full-time   Linkedin  \n",
       "1                                        Philippines      Full-time   Linkedin  \n",
       "2         Manila City, National Capital Region (NCR)      Full-time   Linkedin  \n",
       "3         Quezon City, National Capital Region (NCR)      Full-time   Linkedin  \n",
       "10                     National Capital Region (NCR)      Full-time   Linkedin  \n",
       "..                                               ...            ...        ...  \n",
       "116       Manila City, National Capital Region (NCR)      Full-time  Jobstreet  \n",
       "117  Mandaluyong City, National Capital Region (NCR)      Full-time  Jobstreet  \n",
       "118       Manila City, National Capital Region (NCR)      Full-time  Jobstreet  \n",
       "119       Manila City, National Capital Region (NCR)      Full-time  Jobstreet  \n",
       "120       Manila City, National Capital Region (NCR)      Full-time  Jobstreet  \n",
       "\n",
       "[99 rows x 8 columns]"
      ]
     },
     "execution_count": 180,
     "metadata": {},
     "output_type": "execute_result"
    }
   ],
   "source": [
    "# retain first listing\n",
    "job_listings = job_listings.drop_duplicates(subset=['title', 'company'], keep='first')\n",
    "job_listings\n"
   ]
  },
  {
   "cell_type": "code",
   "execution_count": 182,
   "id": "1284eac1",
   "metadata": {},
   "outputs": [
    {
     "data": {
      "text/plain": [
       "(99, 8)"
      ]
     },
     "execution_count": 182,
     "metadata": {},
     "output_type": "execute_result"
    }
   ],
   "source": [
    "job_listings.shape"
   ]
  }
 ],
 "metadata": {
  "kernelspec": {
   "display_name": "Python 3",
   "language": "python",
   "name": "python3"
  },
  "language_info": {
   "codemirror_mode": {
    "name": "ipython",
    "version": 3
   },
   "file_extension": ".py",
   "mimetype": "text/x-python",
   "name": "python",
   "nbconvert_exporter": "python",
   "pygments_lexer": "ipython3",
   "version": "3.12.1"
  }
 },
 "nbformat": 4,
 "nbformat_minor": 5
}
